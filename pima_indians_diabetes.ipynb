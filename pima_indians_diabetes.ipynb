{
  "nbformat": 4,
  "nbformat_minor": 0,
  "metadata": {
    "colab": {
      "name": "pima indians diabetes.ipynb",
      "version": "0.3.2",
      "provenance": [],
      "include_colab_link": true
    },
    "kernelspec": {
      "name": "python3",
      "display_name": "Python 3"
    }
  },
  "cells": [
    {
      "cell_type": "markdown",
      "metadata": {
        "id": "view-in-github",
        "colab_type": "text"
      },
      "source": [
        "<a href=\"https://colab.research.google.com/github/alirezabayatmk/pima-indians-diabetes/blob/master/pima_indians_diabetes.ipynb\" target=\"_parent\"><img src=\"https://colab.research.google.com/assets/colab-badge.svg\" alt=\"Open In Colab\"/></a>"
      ]
    },
    {
      "cell_type": "code",
      "metadata": {
        "id": "-UlQLTy9GV3L",
        "colab_type": "code",
        "outputId": "9fb03bca-d1d3-406a-a059-5fefd8cf1449",
        "colab": {
          "base_uri": "https://localhost:8080/",
          "height": 174
        }
      },
      "source": [
        "!pip install -U -q PyDrive\n",
        "from pydrive.auth import GoogleAuth\n",
        "from pydrive.drive import GoogleDrive\n",
        "from google.colab import auth,files\n",
        "from oauth2client.client import GoogleCredentials\n",
        "# Authenticate and create the PyDrive client.\n",
        "auth.authenticate_user()\n",
        "gauth = GoogleAuth()\n",
        "gauth.credentials = GoogleCredentials.get_application_default()\n",
        "drive = GoogleDrive(gauth)"
      ],
      "execution_count": 0,
      "outputs": [
        {
          "output_type": "stream",
          "text": [
            "\u001b[?25l\r\u001b[K     |▎                               | 10kB 15.2MB/s eta 0:00:01\r\u001b[K     |▋                               | 20kB 3.3MB/s eta 0:00:01\r\u001b[K     |█                               | 30kB 4.7MB/s eta 0:00:01\r\u001b[K     |█▎                              | 40kB 3.0MB/s eta 0:00:01\r\u001b[K     |█▋                              | 51kB 3.7MB/s eta 0:00:01\r\u001b[K     |██                              | 61kB 4.3MB/s eta 0:00:01\r\u001b[K     |██▎                             | 71kB 5.0MB/s eta 0:00:01\r\u001b[K     |██▋                             | 81kB 5.6MB/s eta 0:00:01\r\u001b[K     |███                             | 92kB 6.2MB/s eta 0:00:01\r\u001b[K     |███▎                            | 102kB 4.8MB/s eta 0:00:01\r\u001b[K     |███▋                            | 112kB 4.8MB/s eta 0:00:01\r\u001b[K     |████                            | 122kB 4.8MB/s eta 0:00:01\r\u001b[K     |████▎                           | 133kB 4.8MB/s eta 0:00:01\r\u001b[K     |████▋                           | 143kB 4.8MB/s eta 0:00:01\r\u001b[K     |█████                           | 153kB 4.8MB/s eta 0:00:01\r\u001b[K     |█████▎                          | 163kB 4.8MB/s eta 0:00:01\r\u001b[K     |█████▋                          | 174kB 4.8MB/s eta 0:00:01\r\u001b[K     |██████                          | 184kB 4.8MB/s eta 0:00:01\r\u001b[K     |██████▎                         | 194kB 4.8MB/s eta 0:00:01\r\u001b[K     |██████▋                         | 204kB 4.8MB/s eta 0:00:01\r\u001b[K     |███████                         | 215kB 4.8MB/s eta 0:00:01\r\u001b[K     |███████▎                        | 225kB 4.8MB/s eta 0:00:01\r\u001b[K     |███████▋                        | 235kB 4.8MB/s eta 0:00:01\r\u001b[K     |████████                        | 245kB 4.8MB/s eta 0:00:01\r\u001b[K     |████████▎                       | 256kB 4.8MB/s eta 0:00:01\r\u001b[K     |████████▋                       | 266kB 4.8MB/s eta 0:00:01\r\u001b[K     |█████████                       | 276kB 4.8MB/s eta 0:00:01\r\u001b[K     |█████████▎                      | 286kB 4.8MB/s eta 0:00:01\r\u001b[K     |█████████▋                      | 296kB 4.8MB/s eta 0:00:01\r\u001b[K     |██████████                      | 307kB 4.8MB/s eta 0:00:01\r\u001b[K     |██████████▎                     | 317kB 4.8MB/s eta 0:00:01\r\u001b[K     |██████████▋                     | 327kB 4.8MB/s eta 0:00:01\r\u001b[K     |███████████                     | 337kB 4.8MB/s eta 0:00:01\r\u001b[K     |███████████▎                    | 348kB 4.8MB/s eta 0:00:01\r\u001b[K     |███████████▋                    | 358kB 4.8MB/s eta 0:00:01\r\u001b[K     |████████████                    | 368kB 4.8MB/s eta 0:00:01\r\u001b[K     |████████████▎                   | 378kB 4.8MB/s eta 0:00:01\r\u001b[K     |████████████▋                   | 389kB 4.8MB/s eta 0:00:01\r\u001b[K     |█████████████                   | 399kB 4.8MB/s eta 0:00:01\r\u001b[K     |█████████████▎                  | 409kB 4.8MB/s eta 0:00:01\r\u001b[K     |█████████████▋                  | 419kB 4.8MB/s eta 0:00:01\r\u001b[K     |██████████████                  | 430kB 4.8MB/s eta 0:00:01\r\u001b[K     |██████████████▎                 | 440kB 4.8MB/s eta 0:00:01\r\u001b[K     |██████████████▋                 | 450kB 4.8MB/s eta 0:00:01\r\u001b[K     |███████████████                 | 460kB 4.8MB/s eta 0:00:01\r\u001b[K     |███████████████▎                | 471kB 4.8MB/s eta 0:00:01\r\u001b[K     |███████████████▋                | 481kB 4.8MB/s eta 0:00:01\r\u001b[K     |████████████████                | 491kB 4.8MB/s eta 0:00:01\r\u001b[K     |████████████████▎               | 501kB 4.8MB/s eta 0:00:01\r\u001b[K     |████████████████▋               | 512kB 4.8MB/s eta 0:00:01\r\u001b[K     |█████████████████               | 522kB 4.8MB/s eta 0:00:01\r\u001b[K     |█████████████████▎              | 532kB 4.8MB/s eta 0:00:01\r\u001b[K     |█████████████████▋              | 542kB 4.8MB/s eta 0:00:01\r\u001b[K     |██████████████████              | 552kB 4.8MB/s eta 0:00:01\r\u001b[K     |██████████████████▎             | 563kB 4.8MB/s eta 0:00:01\r\u001b[K     |██████████████████▋             | 573kB 4.8MB/s eta 0:00:01\r\u001b[K     |███████████████████             | 583kB 4.8MB/s eta 0:00:01\r\u001b[K     |███████████████████▎            | 593kB 4.8MB/s eta 0:00:01\r\u001b[K     |███████████████████▋            | 604kB 4.8MB/s eta 0:00:01\r\u001b[K     |████████████████████            | 614kB 4.8MB/s eta 0:00:01\r\u001b[K     |████████████████████▎           | 624kB 4.8MB/s eta 0:00:01\r\u001b[K     |████████████████████▋           | 634kB 4.8MB/s eta 0:00:01\r\u001b[K     |█████████████████████           | 645kB 4.8MB/s eta 0:00:01\r\u001b[K     |█████████████████████▎          | 655kB 4.8MB/s eta 0:00:01\r\u001b[K     |█████████████████████▋          | 665kB 4.8MB/s eta 0:00:01\r\u001b[K     |██████████████████████          | 675kB 4.8MB/s eta 0:00:01\r\u001b[K     |██████████████████████▎         | 686kB 4.8MB/s eta 0:00:01\r\u001b[K     |██████████████████████▋         | 696kB 4.8MB/s eta 0:00:01\r\u001b[K     |███████████████████████         | 706kB 4.8MB/s eta 0:00:01\r\u001b[K     |███████████████████████▎        | 716kB 4.8MB/s eta 0:00:01\r\u001b[K     |███████████████████████▋        | 727kB 4.8MB/s eta 0:00:01\r\u001b[K     |████████████████████████        | 737kB 4.8MB/s eta 0:00:01\r\u001b[K     |████████████████████████▎       | 747kB 4.8MB/s eta 0:00:01\r\u001b[K     |████████████████████████▋       | 757kB 4.8MB/s eta 0:00:01\r\u001b[K     |████████████████████████▉       | 768kB 4.8MB/s eta 0:00:01\r\u001b[K     |█████████████████████████▏      | 778kB 4.8MB/s eta 0:00:01\r\u001b[K     |█████████████████████████▌      | 788kB 4.8MB/s eta 0:00:01\r\u001b[K     |█████████████████████████▉      | 798kB 4.8MB/s eta 0:00:01\r\u001b[K     |██████████████████████████▏     | 808kB 4.8MB/s eta 0:00:01\r\u001b[K     |██████████████████████████▌     | 819kB 4.8MB/s eta 0:00:01\r\u001b[K     |██████████████████████████▉     | 829kB 4.8MB/s eta 0:00:01\r\u001b[K     |███████████████████████████▏    | 839kB 4.8MB/s eta 0:00:01\r\u001b[K     |███████████████████████████▌    | 849kB 4.8MB/s eta 0:00:01\r\u001b[K     |███████████████████████████▉    | 860kB 4.8MB/s eta 0:00:01\r\u001b[K     |████████████████████████████▏   | 870kB 4.8MB/s eta 0:00:01\r\u001b[K     |████████████████████████████▌   | 880kB 4.8MB/s eta 0:00:01\r\u001b[K     |████████████████████████████▉   | 890kB 4.8MB/s eta 0:00:01\r\u001b[K     |█████████████████████████████▏  | 901kB 4.8MB/s eta 0:00:01\r\u001b[K     |█████████████████████████████▌  | 911kB 4.8MB/s eta 0:00:01\r\u001b[K     |█████████████████████████████▉  | 921kB 4.8MB/s eta 0:00:01\r\u001b[K     |██████████████████████████████▏ | 931kB 4.8MB/s eta 0:00:01\r\u001b[K     |██████████████████████████████▌ | 942kB 4.8MB/s eta 0:00:01\r\u001b[K     |██████████████████████████████▉ | 952kB 4.8MB/s eta 0:00:01\r\u001b[K     |███████████████████████████████▏| 962kB 4.8MB/s eta 0:00:01\r\u001b[K     |███████████████████████████████▌| 972kB 4.8MB/s eta 0:00:01\r\u001b[K     |███████████████████████████████▉| 983kB 4.8MB/s eta 0:00:01\r\u001b[K     |████████████████████████████████| 993kB 4.8MB/s \n",
            "\u001b[?25h  Building wheel for PyDrive (setup.py) ... \u001b[?25l\u001b[?25hdone\n"
          ],
          "name": "stdout"
        }
      ]
    },
    {
      "cell_type": "code",
      "metadata": {
        "id": "yfxEpPOhJTBk",
        "colab_type": "code",
        "outputId": "45d07ad5-71f0-41f9-e105-87c2287b254e",
        "colab": {
          "base_uri": "https://localhost:8080/",
          "height": 249
        }
      },
      "source": [
        "link = 'https://drive.google.com/open?id=1xVIYBHSvvMwF3yo3ePGI9t_4W98fsPNe'\n",
        "fluff, id = link.split('=')\n",
        "print (id) # Verify that you have everything after '='\n",
        "downloaded = drive.CreateFile({'id':id}) \n",
        "downloaded.GetContentFile('diabetes.csv')  \n",
        "d_data = pd.read_csv('diabetes.csv')\n",
        "# Dataset is now stored in a Pandas Dataframe"
      ],
      "execution_count": 0,
      "outputs": [
        {
          "output_type": "stream",
          "text": [
            "1xVIYBHSvvMwF3yo3ePGI9t_4W98fsPNe\n"
          ],
          "name": "stdout"
        },
        {
          "output_type": "error",
          "ename": "NameError",
          "evalue": "ignored",
          "traceback": [
            "\u001b[0;31m---------------------------------------------------------------------------\u001b[0m",
            "\u001b[0;31mNameError\u001b[0m                                 Traceback (most recent call last)",
            "\u001b[0;32m<ipython-input-3-8df68ead8838>\u001b[0m in \u001b[0;36m<module>\u001b[0;34m()\u001b[0m\n\u001b[1;32m      2\u001b[0m \u001b[0mfluff\u001b[0m\u001b[0;34m,\u001b[0m \u001b[0mid\u001b[0m \u001b[0;34m=\u001b[0m \u001b[0mlink\u001b[0m\u001b[0;34m.\u001b[0m\u001b[0msplit\u001b[0m\u001b[0;34m(\u001b[0m\u001b[0;34m'='\u001b[0m\u001b[0;34m)\u001b[0m\u001b[0;34m\u001b[0m\u001b[0;34m\u001b[0m\u001b[0m\n\u001b[1;32m      3\u001b[0m \u001b[0mprint\u001b[0m \u001b[0;34m(\u001b[0m\u001b[0mid\u001b[0m\u001b[0;34m)\u001b[0m \u001b[0;31m# Verify that you have everything after '='\u001b[0m\u001b[0;34m\u001b[0m\u001b[0;34m\u001b[0m\u001b[0m\n\u001b[0;32m----> 4\u001b[0;31m \u001b[0mdownloaded\u001b[0m \u001b[0;34m=\u001b[0m \u001b[0mdrive\u001b[0m\u001b[0;34m.\u001b[0m\u001b[0mCreateFile\u001b[0m\u001b[0;34m(\u001b[0m\u001b[0;34m{\u001b[0m\u001b[0;34m'id'\u001b[0m\u001b[0;34m:\u001b[0m\u001b[0mid\u001b[0m\u001b[0;34m}\u001b[0m\u001b[0;34m)\u001b[0m\u001b[0;34m\u001b[0m\u001b[0;34m\u001b[0m\u001b[0m\n\u001b[0m\u001b[1;32m      5\u001b[0m \u001b[0mdownloaded\u001b[0m\u001b[0;34m.\u001b[0m\u001b[0mGetContentFile\u001b[0m\u001b[0;34m(\u001b[0m\u001b[0;34m'diabetes.csv'\u001b[0m\u001b[0;34m)\u001b[0m\u001b[0;34m\u001b[0m\u001b[0;34m\u001b[0m\u001b[0m\n\u001b[1;32m      6\u001b[0m \u001b[0md_data\u001b[0m \u001b[0;34m=\u001b[0m \u001b[0mpd\u001b[0m\u001b[0;34m.\u001b[0m\u001b[0mread_csv\u001b[0m\u001b[0;34m(\u001b[0m\u001b[0;34m'diabetes.csv'\u001b[0m\u001b[0;34m)\u001b[0m\u001b[0;34m\u001b[0m\u001b[0;34m\u001b[0m\u001b[0m\n",
            "\u001b[0;31mNameError\u001b[0m: name 'drive' is not defined"
          ]
        }
      ]
    },
    {
      "cell_type": "code",
      "metadata": {
        "id": "zlKeKt2bKH3C",
        "colab_type": "code",
        "outputId": "c38f5d19-167f-4418-e31d-ed278e8b6e38",
        "colab": {
          "base_uri": "https://localhost:8080/",
          "height": 34
        }
      },
      "source": [
        "import numpy as np\n",
        "import pandas as pd\n",
        "import matplotlib.pyplot as plt\n",
        "%matplotlib inline\n",
        "\n",
        "from keras.models import Sequential\n",
        "from keras.layers import Dense\n",
        "from keras.callbacks import ModelCheckpoint\n",
        "from sklearn.model_selection import train_test_split\n",
        "\n",
        "seed = 42\n",
        "np.random.seed(seed)"
      ],
      "execution_count": 0,
      "outputs": [
        {
          "output_type": "stream",
          "text": [
            "Using TensorFlow backend.\n"
          ],
          "name": "stderr"
        }
      ]
    },
    {
      "cell_type": "code",
      "metadata": {
        "id": "hrsPXxBuOz6W",
        "colab_type": "code",
        "outputId": "262165e3-dd57-4b44-8102-8715c5776d39",
        "colab": {
          "base_uri": "https://localhost:8080/",
          "height": 204
        }
      },
      "source": [
        "d_data.head(5)"
      ],
      "execution_count": 0,
      "outputs": [
        {
          "output_type": "execute_result",
          "data": {
            "text/html": [
              "<div>\n",
              "<style scoped>\n",
              "    .dataframe tbody tr th:only-of-type {\n",
              "        vertical-align: middle;\n",
              "    }\n",
              "\n",
              "    .dataframe tbody tr th {\n",
              "        vertical-align: top;\n",
              "    }\n",
              "\n",
              "    .dataframe thead th {\n",
              "        text-align: right;\n",
              "    }\n",
              "</style>\n",
              "<table border=\"1\" class=\"dataframe\">\n",
              "  <thead>\n",
              "    <tr style=\"text-align: right;\">\n",
              "      <th></th>\n",
              "      <th>Pregnancies</th>\n",
              "      <th>Glucose</th>\n",
              "      <th>BloodPressure</th>\n",
              "      <th>SkinThickness</th>\n",
              "      <th>Insulin</th>\n",
              "      <th>BMI</th>\n",
              "      <th>DiabetesPedigreeFunction</th>\n",
              "      <th>Age</th>\n",
              "      <th>Outcome</th>\n",
              "    </tr>\n",
              "  </thead>\n",
              "  <tbody>\n",
              "    <tr>\n",
              "      <th>0</th>\n",
              "      <td>6</td>\n",
              "      <td>148</td>\n",
              "      <td>72</td>\n",
              "      <td>35</td>\n",
              "      <td>0</td>\n",
              "      <td>33.6</td>\n",
              "      <td>0.627</td>\n",
              "      <td>50</td>\n",
              "      <td>1</td>\n",
              "    </tr>\n",
              "    <tr>\n",
              "      <th>1</th>\n",
              "      <td>1</td>\n",
              "      <td>85</td>\n",
              "      <td>66</td>\n",
              "      <td>29</td>\n",
              "      <td>0</td>\n",
              "      <td>26.6</td>\n",
              "      <td>0.351</td>\n",
              "      <td>31</td>\n",
              "      <td>0</td>\n",
              "    </tr>\n",
              "    <tr>\n",
              "      <th>2</th>\n",
              "      <td>8</td>\n",
              "      <td>183</td>\n",
              "      <td>64</td>\n",
              "      <td>0</td>\n",
              "      <td>0</td>\n",
              "      <td>23.3</td>\n",
              "      <td>0.672</td>\n",
              "      <td>32</td>\n",
              "      <td>1</td>\n",
              "    </tr>\n",
              "    <tr>\n",
              "      <th>3</th>\n",
              "      <td>1</td>\n",
              "      <td>89</td>\n",
              "      <td>66</td>\n",
              "      <td>23</td>\n",
              "      <td>94</td>\n",
              "      <td>28.1</td>\n",
              "      <td>0.167</td>\n",
              "      <td>21</td>\n",
              "      <td>0</td>\n",
              "    </tr>\n",
              "    <tr>\n",
              "      <th>4</th>\n",
              "      <td>0</td>\n",
              "      <td>137</td>\n",
              "      <td>40</td>\n",
              "      <td>35</td>\n",
              "      <td>168</td>\n",
              "      <td>43.1</td>\n",
              "      <td>2.288</td>\n",
              "      <td>33</td>\n",
              "      <td>1</td>\n",
              "    </tr>\n",
              "  </tbody>\n",
              "</table>\n",
              "</div>"
            ],
            "text/plain": [
              "   Pregnancies  Glucose  BloodPressure  ...  DiabetesPedigreeFunction  Age  Outcome\n",
              "0            6      148             72  ...                     0.627   50        1\n",
              "1            1       85             66  ...                     0.351   31        0\n",
              "2            8      183             64  ...                     0.672   32        1\n",
              "3            1       89             66  ...                     0.167   21        0\n",
              "4            0      137             40  ...                     2.288   33        1\n",
              "\n",
              "[5 rows x 9 columns]"
            ]
          },
          "metadata": {
            "tags": []
          },
          "execution_count": 13
        }
      ]
    },
    {
      "cell_type": "code",
      "metadata": {
        "id": "G4Fl_85RK9HA",
        "colab_type": "code",
        "outputId": "e5eab2f6-c036-46ac-add0-6da4b9f17675",
        "colab": {
          "base_uri": "https://localhost:8080/",
          "height": 297
        }
      },
      "source": [
        "d_data.describe()"
      ],
      "execution_count": 0,
      "outputs": [
        {
          "output_type": "execute_result",
          "data": {
            "text/html": [
              "<div>\n",
              "<style scoped>\n",
              "    .dataframe tbody tr th:only-of-type {\n",
              "        vertical-align: middle;\n",
              "    }\n",
              "\n",
              "    .dataframe tbody tr th {\n",
              "        vertical-align: top;\n",
              "    }\n",
              "\n",
              "    .dataframe thead th {\n",
              "        text-align: right;\n",
              "    }\n",
              "</style>\n",
              "<table border=\"1\" class=\"dataframe\">\n",
              "  <thead>\n",
              "    <tr style=\"text-align: right;\">\n",
              "      <th></th>\n",
              "      <th>Pregnancies</th>\n",
              "      <th>Glucose</th>\n",
              "      <th>BloodPressure</th>\n",
              "      <th>SkinThickness</th>\n",
              "      <th>Insulin</th>\n",
              "      <th>BMI</th>\n",
              "      <th>DiabetesPedigreeFunction</th>\n",
              "      <th>Age</th>\n",
              "      <th>Outcome</th>\n",
              "    </tr>\n",
              "  </thead>\n",
              "  <tbody>\n",
              "    <tr>\n",
              "      <th>count</th>\n",
              "      <td>768.000000</td>\n",
              "      <td>768.000000</td>\n",
              "      <td>768.000000</td>\n",
              "      <td>768.000000</td>\n",
              "      <td>768.000000</td>\n",
              "      <td>768.000000</td>\n",
              "      <td>768.000000</td>\n",
              "      <td>768.000000</td>\n",
              "      <td>768.000000</td>\n",
              "    </tr>\n",
              "    <tr>\n",
              "      <th>mean</th>\n",
              "      <td>3.845052</td>\n",
              "      <td>120.894531</td>\n",
              "      <td>69.105469</td>\n",
              "      <td>20.536458</td>\n",
              "      <td>79.799479</td>\n",
              "      <td>31.992578</td>\n",
              "      <td>0.471876</td>\n",
              "      <td>33.240885</td>\n",
              "      <td>0.348958</td>\n",
              "    </tr>\n",
              "    <tr>\n",
              "      <th>std</th>\n",
              "      <td>3.369578</td>\n",
              "      <td>31.972618</td>\n",
              "      <td>19.355807</td>\n",
              "      <td>15.952218</td>\n",
              "      <td>115.244002</td>\n",
              "      <td>7.884160</td>\n",
              "      <td>0.331329</td>\n",
              "      <td>11.760232</td>\n",
              "      <td>0.476951</td>\n",
              "    </tr>\n",
              "    <tr>\n",
              "      <th>min</th>\n",
              "      <td>0.000000</td>\n",
              "      <td>0.000000</td>\n",
              "      <td>0.000000</td>\n",
              "      <td>0.000000</td>\n",
              "      <td>0.000000</td>\n",
              "      <td>0.000000</td>\n",
              "      <td>0.078000</td>\n",
              "      <td>21.000000</td>\n",
              "      <td>0.000000</td>\n",
              "    </tr>\n",
              "    <tr>\n",
              "      <th>25%</th>\n",
              "      <td>1.000000</td>\n",
              "      <td>99.000000</td>\n",
              "      <td>62.000000</td>\n",
              "      <td>0.000000</td>\n",
              "      <td>0.000000</td>\n",
              "      <td>27.300000</td>\n",
              "      <td>0.243750</td>\n",
              "      <td>24.000000</td>\n",
              "      <td>0.000000</td>\n",
              "    </tr>\n",
              "    <tr>\n",
              "      <th>50%</th>\n",
              "      <td>3.000000</td>\n",
              "      <td>117.000000</td>\n",
              "      <td>72.000000</td>\n",
              "      <td>23.000000</td>\n",
              "      <td>30.500000</td>\n",
              "      <td>32.000000</td>\n",
              "      <td>0.372500</td>\n",
              "      <td>29.000000</td>\n",
              "      <td>0.000000</td>\n",
              "    </tr>\n",
              "    <tr>\n",
              "      <th>75%</th>\n",
              "      <td>6.000000</td>\n",
              "      <td>140.250000</td>\n",
              "      <td>80.000000</td>\n",
              "      <td>32.000000</td>\n",
              "      <td>127.250000</td>\n",
              "      <td>36.600000</td>\n",
              "      <td>0.626250</td>\n",
              "      <td>41.000000</td>\n",
              "      <td>1.000000</td>\n",
              "    </tr>\n",
              "    <tr>\n",
              "      <th>max</th>\n",
              "      <td>17.000000</td>\n",
              "      <td>199.000000</td>\n",
              "      <td>122.000000</td>\n",
              "      <td>99.000000</td>\n",
              "      <td>846.000000</td>\n",
              "      <td>67.100000</td>\n",
              "      <td>2.420000</td>\n",
              "      <td>81.000000</td>\n",
              "      <td>1.000000</td>\n",
              "    </tr>\n",
              "  </tbody>\n",
              "</table>\n",
              "</div>"
            ],
            "text/plain": [
              "       Pregnancies     Glucose  ...         Age     Outcome\n",
              "count   768.000000  768.000000  ...  768.000000  768.000000\n",
              "mean      3.845052  120.894531  ...   33.240885    0.348958\n",
              "std       3.369578   31.972618  ...   11.760232    0.476951\n",
              "min       0.000000    0.000000  ...   21.000000    0.000000\n",
              "25%       1.000000   99.000000  ...   24.000000    0.000000\n",
              "50%       3.000000  117.000000  ...   29.000000    0.000000\n",
              "75%       6.000000  140.250000  ...   41.000000    1.000000\n",
              "max      17.000000  199.000000  ...   81.000000    1.000000\n",
              "\n",
              "[8 rows x 9 columns]"
            ]
          },
          "metadata": {
            "tags": []
          },
          "execution_count": 14
        }
      ]
    },
    {
      "cell_type": "code",
      "metadata": {
        "id": "_QJZ7ox7NBnf",
        "colab_type": "code",
        "outputId": "f094776b-ba33-4e02-a15c-ecbf0036e781",
        "colab": {
          "base_uri": "https://localhost:8080/",
          "height": 198
        }
      },
      "source": [
        "x = d_data.iloc[:,:-1].values\n",
        "y = d_data.iloc[:,-1].values\n",
        "X_train , X_test , y_train , y_test= train_test_split(x , y , test_size=0.2 , random_state=1)"
      ],
      "execution_count": 0,
      "outputs": [
        {
          "output_type": "error",
          "ename": "NameError",
          "evalue": "ignored",
          "traceback": [
            "\u001b[0;31m---------------------------------------------------------------------------\u001b[0m",
            "\u001b[0;31mNameError\u001b[0m                                 Traceback (most recent call last)",
            "\u001b[0;32m<ipython-input-2-15257763e531>\u001b[0m in \u001b[0;36m<module>\u001b[0;34m()\u001b[0m\n\u001b[0;32m----> 1\u001b[0;31m \u001b[0mx\u001b[0m \u001b[0;34m=\u001b[0m \u001b[0md_data\u001b[0m\u001b[0;34m.\u001b[0m\u001b[0miloc\u001b[0m\u001b[0;34m[\u001b[0m\u001b[0;34m:\u001b[0m\u001b[0;34m,\u001b[0m\u001b[0;34m:\u001b[0m\u001b[0;34m-\u001b[0m\u001b[0;36m1\u001b[0m\u001b[0;34m]\u001b[0m\u001b[0;34m.\u001b[0m\u001b[0mvalues\u001b[0m\u001b[0;34m\u001b[0m\u001b[0;34m\u001b[0m\u001b[0m\n\u001b[0m\u001b[1;32m      2\u001b[0m \u001b[0my\u001b[0m \u001b[0;34m=\u001b[0m \u001b[0md_data\u001b[0m\u001b[0;34m.\u001b[0m\u001b[0miloc\u001b[0m\u001b[0;34m[\u001b[0m\u001b[0;34m:\u001b[0m\u001b[0;34m,\u001b[0m\u001b[0;34m-\u001b[0m\u001b[0;36m1\u001b[0m\u001b[0;34m]\u001b[0m\u001b[0;34m.\u001b[0m\u001b[0mvalues\u001b[0m\u001b[0;34m\u001b[0m\u001b[0;34m\u001b[0m\u001b[0m\n\u001b[1;32m      3\u001b[0m \u001b[0mX_train\u001b[0m \u001b[0;34m,\u001b[0m \u001b[0mX_test\u001b[0m \u001b[0;34m,\u001b[0m \u001b[0my_train\u001b[0m \u001b[0;34m,\u001b[0m \u001b[0my_test\u001b[0m\u001b[0;34m=\u001b[0m \u001b[0mtrain_test_split\u001b[0m\u001b[0;34m(\u001b[0m\u001b[0mx\u001b[0m \u001b[0;34m,\u001b[0m \u001b[0my\u001b[0m \u001b[0;34m,\u001b[0m \u001b[0mtest_size\u001b[0m\u001b[0;34m=\u001b[0m\u001b[0;36m0.2\u001b[0m \u001b[0;34m,\u001b[0m \u001b[0mrandom_state\u001b[0m\u001b[0;34m=\u001b[0m\u001b[0;36m1\u001b[0m\u001b[0;34m)\u001b[0m\u001b[0;34m\u001b[0m\u001b[0;34m\u001b[0m\u001b[0m\n",
            "\u001b[0;31mNameError\u001b[0m: name 'd_data' is not defined"
          ]
        }
      ]
    },
    {
      "cell_type": "code",
      "metadata": {
        "id": "dE9PJhvwPCc5",
        "colab_type": "code",
        "outputId": "02488462-a419-444e-86b3-9fc2b497e7a5",
        "colab": {
          "base_uri": "https://localhost:8080/",
          "height": 102
        }
      },
      "source": [
        "zero_fields = ['Glucose', 'BloodPressure', 'SkinThickness', 'Insulin', 'BMI']\n",
        "\n",
        "def check_zero_entries(data, fields):\n",
        "    \"\"\" List number of 0-entries in each of the given fields\"\"\"\n",
        "    for field in fields:\n",
        "        print('field %s: num 0-entries: %d' % (field, len(data.loc[ data[field] == 0, field ])))\n",
        "\n",
        "check_zero_entries(d_data, zero_fields)"
      ],
      "execution_count": 0,
      "outputs": [
        {
          "output_type": "stream",
          "text": [
            "field Glucose: num 0-entries: 5\n",
            "field BloodPressure: num 0-entries: 35\n",
            "field SkinThickness: num 0-entries: 227\n",
            "field Insulin: num 0-entries: 374\n",
            "field BMI: num 0-entries: 11\n"
          ],
          "name": "stdout"
        }
      ]
    },
    {
      "cell_type": "code",
      "metadata": {
        "id": "Lo-3-oSlPjUW",
        "colab_type": "code",
        "outputId": "0442065a-dc4a-4afc-c580-a44288f4d1c8",
        "colab": {
          "base_uri": "https://localhost:8080/",
          "height": 249
        }
      },
      "source": [
        "features = list(d_data.columns.values)\n",
        "features.remove('Outcome')\n",
        "print(features)\n",
        "X = d_data[features]\n",
        "y = d_data['Outcome']\n",
        "\n",
        "X_train, X_test, y_train, y_test = train_test_split(X, y, test_size=0.20, random_state=1)\n",
        "\n",
        "print(X_train.shape)\n",
        "print(X_test.shape)"
      ],
      "execution_count": 0,
      "outputs": [
        {
          "output_type": "stream",
          "text": [
            "['Pregnancies', 'Glucose', 'BloodPressure', 'SkinThickness', 'Insulin', 'BMI', 'DiabetesPedigreeFunction', 'Age']\n"
          ],
          "name": "stdout"
        },
        {
          "output_type": "error",
          "ename": "NameError",
          "evalue": "ignored",
          "traceback": [
            "\u001b[0;31m---------------------------------------------------------------------------\u001b[0m",
            "\u001b[0;31mNameError\u001b[0m                                 Traceback (most recent call last)",
            "\u001b[0;32m<ipython-input-25-e9cb39c6fbfe>\u001b[0m in \u001b[0;36m<module>\u001b[0;34m()\u001b[0m\n\u001b[1;32m      5\u001b[0m \u001b[0my\u001b[0m \u001b[0;34m=\u001b[0m \u001b[0md_data\u001b[0m\u001b[0;34m[\u001b[0m\u001b[0;34m'Outcome'\u001b[0m\u001b[0;34m]\u001b[0m\u001b[0;34m\u001b[0m\u001b[0;34m\u001b[0m\u001b[0m\n\u001b[1;32m      6\u001b[0m \u001b[0;34m\u001b[0m\u001b[0m\n\u001b[0;32m----> 7\u001b[0;31m \u001b[0mX_train\u001b[0m\u001b[0;34m,\u001b[0m \u001b[0mX_test\u001b[0m\u001b[0;34m,\u001b[0m \u001b[0my_train\u001b[0m\u001b[0;34m,\u001b[0m \u001b[0my_test\u001b[0m \u001b[0;34m=\u001b[0m \u001b[0mtrain_test_split\u001b[0m\u001b[0;34m(\u001b[0m\u001b[0mX\u001b[0m\u001b[0;34m,\u001b[0m \u001b[0my\u001b[0m\u001b[0;34m,\u001b[0m \u001b[0mtest_size\u001b[0m\u001b[0;34m=\u001b[0m\u001b[0;36m0.20\u001b[0m\u001b[0;34m,\u001b[0m \u001b[0mrandom_state\u001b[0m\u001b[0;34m=\u001b[0m\u001b[0;36m1\u001b[0m\u001b[0;34m)\u001b[0m\u001b[0;34m\u001b[0m\u001b[0;34m\u001b[0m\u001b[0m\n\u001b[0m\u001b[1;32m      8\u001b[0m \u001b[0;34m\u001b[0m\u001b[0m\n\u001b[1;32m      9\u001b[0m \u001b[0mprint\u001b[0m\u001b[0;34m(\u001b[0m\u001b[0mX_train\u001b[0m\u001b[0;34m.\u001b[0m\u001b[0mshape\u001b[0m\u001b[0;34m)\u001b[0m\u001b[0;34m\u001b[0m\u001b[0;34m\u001b[0m\u001b[0m\n",
            "\u001b[0;31mNameError\u001b[0m: name 'train_test_split' is not defined"
          ]
        }
      ]
    },
    {
      "cell_type": "code",
      "metadata": {
        "id": "oVAbIy65P7dD",
        "colab_type": "code",
        "colab": {}
      },
      "source": [
        "def impute_zero_field(data, field):\n",
        "    nonzero_vals = data.loc[data[field] != 0, field]\n",
        "    avg = np.sum(nonzero_vals) / len(nonzero_vals)\n",
        "    k = len(data.loc[ data[field] == 0, field])   # num of 0-entries\n",
        "    data.loc[ data[field] == 0, field ] = avg\n",
        "    print('Field: %s; fixed %d entries with value: %.3f' % (field, k, avg))"
      ],
      "execution_count": 0,
      "outputs": []
    },
    {
      "cell_type": "code",
      "metadata": {
        "id": "3zsMxMpiP_a-",
        "colab_type": "code",
        "outputId": "8ece55ba-df0d-43da-d902-7289acf4fdd0",
        "colab": {
          "base_uri": "https://localhost:8080/",
          "height": 181
        }
      },
      "source": [
        "for field in zero_fields:\n",
        "    impute_zero_field(X_train, field)"
      ],
      "execution_count": 0,
      "outputs": [
        {
          "output_type": "error",
          "ename": "NameError",
          "evalue": "ignored",
          "traceback": [
            "\u001b[0;31m---------------------------------------------------------------------------\u001b[0m",
            "\u001b[0;31mNameError\u001b[0m                                 Traceback (most recent call last)",
            "\u001b[0;32m<ipython-input-18-cb5f724b4125>\u001b[0m in \u001b[0;36m<module>\u001b[0;34m()\u001b[0m\n\u001b[1;32m      1\u001b[0m \u001b[0;32mfor\u001b[0m \u001b[0mfield\u001b[0m \u001b[0;32min\u001b[0m \u001b[0mzero_fields\u001b[0m\u001b[0;34m:\u001b[0m\u001b[0;34m\u001b[0m\u001b[0;34m\u001b[0m\u001b[0m\n\u001b[0;32m----> 2\u001b[0;31m     \u001b[0mimpute_zero_field\u001b[0m\u001b[0;34m(\u001b[0m\u001b[0mX_train\u001b[0m\u001b[0;34m,\u001b[0m \u001b[0mfield\u001b[0m\u001b[0;34m)\u001b[0m\u001b[0;34m\u001b[0m\u001b[0;34m\u001b[0m\u001b[0m\n\u001b[0m",
            "\u001b[0;31mNameError\u001b[0m: name 'impute_zero_field' is not defined"
          ]
        }
      ]
    },
    {
      "cell_type": "code",
      "metadata": {
        "id": "7lPH4fY0QDJM",
        "colab_type": "code",
        "outputId": "9760b605-a959-4ad8-ac2f-79aebd092afa",
        "colab": {
          "base_uri": "https://localhost:8080/",
          "height": 105
        }
      },
      "source": [
        "check_zero_entries(X_train, zero_fields)"
      ],
      "execution_count": 0,
      "outputs": [
        {
          "output_type": "stream",
          "text": [
            "field Glucose: num 0-entries: 0\n",
            "field BloodPressure: num 0-entries: 0\n",
            "field SkinThickness: num 0-entries: 0\n",
            "field Insulin: num 0-entries: 0\n",
            "field BMI: num 0-entries: 0\n"
          ],
          "name": "stdout"
        }
      ]
    },
    {
      "cell_type": "code",
      "metadata": {
        "id": "tM5Md1qyQFBY",
        "colab_type": "code",
        "outputId": "4eea9e21-c051-4146-a144-aa4b57196274",
        "colab": {
          "base_uri": "https://localhost:8080/",
          "height": 211
        }
      },
      "source": [
        "for field in zero_fields:\n",
        "    impute_zero_field(X_test, field)"
      ],
      "execution_count": 0,
      "outputs": [
        {
          "output_type": "stream",
          "text": [
            "/usr/local/lib/python3.6/dist-packages/pandas/core/indexing.py:543: SettingWithCopyWarning: \n",
            "A value is trying to be set on a copy of a slice from a DataFrame.\n",
            "Try using .loc[row_indexer,col_indexer] = value instead\n",
            "\n",
            "See the caveats in the documentation: http://pandas.pydata.org/pandas-docs/stable/indexing.html#indexing-view-versus-copy\n",
            "  self.obj[item] = s\n"
          ],
          "name": "stderr"
        },
        {
          "output_type": "stream",
          "text": [
            "Field: Glucose; fixed 2 entries with value: 121.020\n",
            "Field: BloodPressure; fixed 6 entries with value: 72.919\n",
            "Field: SkinThickness; fixed 36 entries with value: 30.525\n",
            "Field: Insulin; fixed 68 entries with value: 148.349\n",
            "Field: BMI; fixed 4 entries with value: 33.501\n"
          ],
          "name": "stdout"
        }
      ]
    },
    {
      "cell_type": "code",
      "metadata": {
        "id": "SK5alsTSQG12",
        "colab_type": "code",
        "outputId": "396784e0-9196-4c22-a4cc-d1c0aed4d626",
        "colab": {
          "base_uri": "https://localhost:8080/",
          "height": 105
        }
      },
      "source": [
        "check_zero_entries(X_test, zero_fields)"
      ],
      "execution_count": 0,
      "outputs": [
        {
          "output_type": "stream",
          "text": [
            "field Glucose: num 0-entries: 0\n",
            "field BloodPressure: num 0-entries: 0\n",
            "field SkinThickness: num 0-entries: 0\n",
            "field Insulin: num 0-entries: 0\n",
            "field BMI: num 0-entries: 0\n"
          ],
          "name": "stdout"
        }
      ]
    },
    {
      "cell_type": "code",
      "metadata": {
        "id": "aLlfAEBqQQbk",
        "colab_type": "code",
        "colab": {}
      },
      "source": [
        "X_train = X_train.values\n",
        "y_train = y_train.values\n",
        "X_test  = X_test.values\n",
        "y_test  = y_test.values"
      ],
      "execution_count": 0,
      "outputs": []
    },
    {
      "cell_type": "code",
      "metadata": {
        "id": "X5npB7fOQVW3",
        "colab_type": "code",
        "outputId": "dc53849e-b477-4851-9972-f134be4490bc",
        "colab": {
          "base_uri": "https://localhost:8080/",
          "height": 3733
        }
      },
      "source": [
        "NB_EPOCHS = 100  \n",
        "BATCH_SIZE = 10\n",
        "\n",
        "\n",
        "model = Sequential()\n",
        "\n",
        "model.add(Dense(12, input_dim=8, init='uniform', activation='relu'))\n",
        "model.add(Dense(8, init='uniform', activation='relu'))\n",
        "model.add(Dense(1, init='uniform', activation='sigmoid' ))\n",
        "\n",
        "model.compile(loss='binary_crossentropy' ,optimizer='adam' ,metrics=['accuracy'])\n",
        "\n",
        "print('Starting training...')\n",
        "history = model.fit(X_train ,y_train ,validation_data=(X_test, y_test) ,nb_epoch=NB_EPOCHS ,batch_size=BATCH_SIZE ,verbose=1)"
      ],
      "execution_count": 0,
      "outputs": [
        {
          "output_type": "stream",
          "text": [
            "/usr/local/lib/python3.6/dist-packages/ipykernel_launcher.py:7: UserWarning: Update your `Dense` call to the Keras 2 API: `Dense(12, input_dim=8, activation=\"relu\", kernel_initializer=\"uniform\")`\n",
            "  import sys\n",
            "/usr/local/lib/python3.6/dist-packages/ipykernel_launcher.py:8: UserWarning: Update your `Dense` call to the Keras 2 API: `Dense(8, activation=\"relu\", kernel_initializer=\"uniform\")`\n",
            "  \n",
            "/usr/local/lib/python3.6/dist-packages/ipykernel_launcher.py:9: UserWarning: Update your `Dense` call to the Keras 2 API: `Dense(1, activation=\"sigmoid\", kernel_initializer=\"uniform\")`\n",
            "  if __name__ == '__main__':\n",
            "/usr/local/lib/python3.6/dist-packages/ipykernel_launcher.py:14: UserWarning: The `nb_epoch` argument in `fit` has been renamed `epochs`.\n",
            "  \n"
          ],
          "name": "stderr"
        },
        {
          "output_type": "stream",
          "text": [
            "Starting training...\n",
            "Train on 614 samples, validate on 154 samples\n",
            "Epoch 1/100\n",
            "614/614 [==============================] - 0s 693us/step - loss: 0.6758 - acc: 0.6433 - val_loss: 0.6729 - val_acc: 0.6429\n",
            "Epoch 2/100\n",
            "614/614 [==============================] - 0s 137us/step - loss: 0.6649 - acc: 0.6531 - val_loss: 0.6674 - val_acc: 0.6429\n",
            "Epoch 3/100\n",
            "614/614 [==============================] - 0s 136us/step - loss: 0.6580 - acc: 0.6531 - val_loss: 0.6628 - val_acc: 0.6429\n",
            "Epoch 4/100\n",
            "614/614 [==============================] - 0s 128us/step - loss: 0.6504 - acc: 0.6498 - val_loss: 0.6584 - val_acc: 0.6364\n",
            "Epoch 5/100\n",
            "614/614 [==============================] - 0s 133us/step - loss: 0.6428 - acc: 0.6564 - val_loss: 0.6628 - val_acc: 0.6494\n",
            "Epoch 6/100\n",
            "614/614 [==============================] - 0s 133us/step - loss: 0.6308 - acc: 0.6629 - val_loss: 0.6492 - val_acc: 0.6429\n",
            "Epoch 7/100\n",
            "614/614 [==============================] - 0s 130us/step - loss: 0.6272 - acc: 0.6808 - val_loss: 0.6335 - val_acc: 0.6494\n",
            "Epoch 8/100\n",
            "614/614 [==============================] - 0s 127us/step - loss: 0.6216 - acc: 0.6922 - val_loss: 0.6291 - val_acc: 0.6623\n",
            "Epoch 9/100\n",
            "614/614 [==============================] - 0s 138us/step - loss: 0.6095 - acc: 0.6857 - val_loss: 0.6376 - val_acc: 0.6558\n",
            "Epoch 10/100\n",
            "614/614 [==============================] - 0s 129us/step - loss: 0.6075 - acc: 0.6954 - val_loss: 0.6196 - val_acc: 0.6753\n",
            "Epoch 11/100\n",
            "614/614 [==============================] - 0s 124us/step - loss: 0.5953 - acc: 0.7020 - val_loss: 0.6079 - val_acc: 0.6948\n",
            "Epoch 12/100\n",
            "614/614 [==============================] - 0s 133us/step - loss: 0.5896 - acc: 0.6857 - val_loss: 0.6033 - val_acc: 0.6753\n",
            "Epoch 13/100\n",
            "614/614 [==============================] - 0s 131us/step - loss: 0.5942 - acc: 0.7085 - val_loss: 0.6047 - val_acc: 0.6818\n",
            "Epoch 14/100\n",
            "614/614 [==============================] - 0s 124us/step - loss: 0.5863 - acc: 0.6922 - val_loss: 0.6016 - val_acc: 0.7013\n",
            "Epoch 15/100\n",
            "614/614 [==============================] - 0s 126us/step - loss: 0.5893 - acc: 0.6922 - val_loss: 0.5934 - val_acc: 0.7208\n",
            "Epoch 16/100\n",
            "614/614 [==============================] - 0s 127us/step - loss: 0.5730 - acc: 0.6938 - val_loss: 0.5904 - val_acc: 0.7273\n",
            "Epoch 17/100\n",
            "614/614 [==============================] - 0s 125us/step - loss: 0.5824 - acc: 0.6971 - val_loss: 0.6144 - val_acc: 0.7078\n",
            "Epoch 18/100\n",
            "614/614 [==============================] - 0s 125us/step - loss: 0.5704 - acc: 0.7052 - val_loss: 0.5878 - val_acc: 0.7273\n",
            "Epoch 19/100\n",
            "614/614 [==============================] - 0s 129us/step - loss: 0.5696 - acc: 0.7199 - val_loss: 0.6050 - val_acc: 0.7013\n",
            "Epoch 20/100\n",
            "614/614 [==============================] - 0s 124us/step - loss: 0.5744 - acc: 0.6987 - val_loss: 0.6029 - val_acc: 0.7078\n",
            "Epoch 21/100\n",
            "614/614 [==============================] - 0s 126us/step - loss: 0.5756 - acc: 0.7003 - val_loss: 0.5849 - val_acc: 0.7013\n",
            "Epoch 22/100\n",
            "614/614 [==============================] - 0s 133us/step - loss: 0.5688 - acc: 0.7085 - val_loss: 0.5829 - val_acc: 0.7208\n",
            "Epoch 23/100\n",
            "614/614 [==============================] - 0s 124us/step - loss: 0.5643 - acc: 0.7101 - val_loss: 0.5983 - val_acc: 0.6494\n",
            "Epoch 24/100\n",
            "614/614 [==============================] - 0s 127us/step - loss: 0.5758 - acc: 0.7036 - val_loss: 0.5900 - val_acc: 0.7273\n",
            "Epoch 25/100\n",
            "614/614 [==============================] - 0s 135us/step - loss: 0.5726 - acc: 0.7052 - val_loss: 0.5804 - val_acc: 0.7208\n",
            "Epoch 26/100\n",
            "614/614 [==============================] - 0s 129us/step - loss: 0.5658 - acc: 0.7117 - val_loss: 0.5785 - val_acc: 0.7273\n",
            "Epoch 27/100\n",
            "614/614 [==============================] - 0s 124us/step - loss: 0.5736 - acc: 0.7003 - val_loss: 0.5795 - val_acc: 0.7143\n",
            "Epoch 28/100\n",
            "614/614 [==============================] - 0s 128us/step - loss: 0.5662 - acc: 0.7052 - val_loss: 0.5784 - val_acc: 0.7208\n",
            "Epoch 29/100\n",
            "614/614 [==============================] - 0s 131us/step - loss: 0.5618 - acc: 0.7150 - val_loss: 0.5842 - val_acc: 0.7273\n",
            "Epoch 30/100\n",
            "614/614 [==============================] - 0s 132us/step - loss: 0.5702 - acc: 0.7052 - val_loss: 0.5951 - val_acc: 0.7208\n",
            "Epoch 31/100\n",
            "614/614 [==============================] - 0s 129us/step - loss: 0.5604 - acc: 0.7085 - val_loss: 0.6004 - val_acc: 0.7143\n",
            "Epoch 32/100\n",
            "614/614 [==============================] - 0s 125us/step - loss: 0.5625 - acc: 0.6954 - val_loss: 0.5813 - val_acc: 0.6883\n",
            "Epoch 33/100\n",
            "614/614 [==============================] - 0s 128us/step - loss: 0.5611 - acc: 0.7134 - val_loss: 0.5782 - val_acc: 0.7273\n",
            "Epoch 34/100\n",
            "614/614 [==============================] - 0s 129us/step - loss: 0.5609 - acc: 0.7117 - val_loss: 0.5752 - val_acc: 0.7273\n",
            "Epoch 35/100\n",
            "614/614 [==============================] - 0s 128us/step - loss: 0.5587 - acc: 0.7052 - val_loss: 0.5749 - val_acc: 0.6818\n",
            "Epoch 36/100\n",
            "614/614 [==============================] - 0s 124us/step - loss: 0.5594 - acc: 0.7215 - val_loss: 0.5744 - val_acc: 0.7273\n",
            "Epoch 37/100\n",
            "614/614 [==============================] - 0s 124us/step - loss: 0.5668 - acc: 0.7003 - val_loss: 0.5778 - val_acc: 0.7143\n",
            "Epoch 38/100\n",
            "614/614 [==============================] - 0s 128us/step - loss: 0.5622 - acc: 0.7166 - val_loss: 0.5703 - val_acc: 0.7403\n",
            "Epoch 39/100\n",
            "614/614 [==============================] - 0s 126us/step - loss: 0.5580 - acc: 0.7036 - val_loss: 0.5736 - val_acc: 0.6818\n",
            "Epoch 40/100\n",
            "614/614 [==============================] - 0s 128us/step - loss: 0.5652 - acc: 0.7052 - val_loss: 0.5843 - val_acc: 0.7273\n",
            "Epoch 41/100\n",
            "614/614 [==============================] - 0s 153us/step - loss: 0.5548 - acc: 0.7117 - val_loss: 0.5707 - val_acc: 0.7468\n",
            "Epoch 42/100\n",
            "614/614 [==============================] - 0s 134us/step - loss: 0.5549 - acc: 0.7248 - val_loss: 0.5681 - val_acc: 0.7403\n",
            "Epoch 43/100\n",
            "614/614 [==============================] - 0s 127us/step - loss: 0.5577 - acc: 0.7215 - val_loss: 0.5670 - val_acc: 0.7338\n",
            "Epoch 44/100\n",
            "614/614 [==============================] - 0s 125us/step - loss: 0.5549 - acc: 0.7117 - val_loss: 0.5707 - val_acc: 0.7143\n",
            "Epoch 45/100\n",
            "614/614 [==============================] - 0s 128us/step - loss: 0.5596 - acc: 0.7215 - val_loss: 0.5779 - val_acc: 0.7273\n",
            "Epoch 46/100\n",
            "614/614 [==============================] - 0s 128us/step - loss: 0.5571 - acc: 0.7199 - val_loss: 0.5690 - val_acc: 0.7273\n",
            "Epoch 47/100\n",
            "614/614 [==============================] - 0s 122us/step - loss: 0.5623 - acc: 0.7003 - val_loss: 0.5682 - val_acc: 0.7273\n",
            "Epoch 48/100\n",
            "614/614 [==============================] - 0s 124us/step - loss: 0.5609 - acc: 0.7003 - val_loss: 0.5794 - val_acc: 0.7273\n",
            "Epoch 49/100\n",
            "614/614 [==============================] - 0s 126us/step - loss: 0.5608 - acc: 0.7199 - val_loss: 0.5679 - val_acc: 0.7468\n",
            "Epoch 50/100\n",
            "614/614 [==============================] - 0s 123us/step - loss: 0.5501 - acc: 0.7329 - val_loss: 0.5643 - val_acc: 0.7078\n",
            "Epoch 51/100\n",
            "614/614 [==============================] - 0s 126us/step - loss: 0.5517 - acc: 0.7182 - val_loss: 0.5720 - val_acc: 0.7078\n",
            "Epoch 52/100\n",
            "614/614 [==============================] - 0s 120us/step - loss: 0.5553 - acc: 0.7166 - val_loss: 0.5606 - val_acc: 0.7468\n",
            "Epoch 53/100\n",
            "614/614 [==============================] - 0s 122us/step - loss: 0.5480 - acc: 0.7117 - val_loss: 0.5609 - val_acc: 0.7338\n",
            "Epoch 54/100\n",
            "614/614 [==============================] - 0s 122us/step - loss: 0.5476 - acc: 0.7231 - val_loss: 0.5609 - val_acc: 0.7273\n",
            "Epoch 55/100\n",
            "614/614 [==============================] - 0s 126us/step - loss: 0.5555 - acc: 0.7150 - val_loss: 0.5647 - val_acc: 0.7403\n",
            "Epoch 56/100\n",
            "614/614 [==============================] - 0s 125us/step - loss: 0.5476 - acc: 0.7296 - val_loss: 0.5670 - val_acc: 0.7273\n",
            "Epoch 57/100\n",
            "614/614 [==============================] - 0s 126us/step - loss: 0.5511 - acc: 0.7182 - val_loss: 0.5593 - val_acc: 0.7532\n",
            "Epoch 58/100\n",
            "614/614 [==============================] - 0s 124us/step - loss: 0.5532 - acc: 0.7280 - val_loss: 0.5636 - val_acc: 0.7403\n",
            "Epoch 59/100\n",
            "614/614 [==============================] - 0s 127us/step - loss: 0.5452 - acc: 0.7313 - val_loss: 0.5576 - val_acc: 0.7597\n",
            "Epoch 60/100\n",
            "614/614 [==============================] - 0s 124us/step - loss: 0.5461 - acc: 0.7248 - val_loss: 0.5583 - val_acc: 0.7468\n",
            "Epoch 61/100\n",
            "614/614 [==============================] - 0s 132us/step - loss: 0.5499 - acc: 0.7280 - val_loss: 0.5655 - val_acc: 0.7273\n",
            "Epoch 62/100\n",
            "614/614 [==============================] - 0s 124us/step - loss: 0.5452 - acc: 0.7231 - val_loss: 0.5769 - val_acc: 0.7403\n",
            "Epoch 63/100\n",
            "614/614 [==============================] - 0s 125us/step - loss: 0.5488 - acc: 0.7231 - val_loss: 0.5645 - val_acc: 0.7273\n",
            "Epoch 64/100\n",
            "614/614 [==============================] - 0s 127us/step - loss: 0.5436 - acc: 0.7313 - val_loss: 0.5528 - val_acc: 0.7468\n",
            "Epoch 65/100\n",
            "614/614 [==============================] - 0s 127us/step - loss: 0.5428 - acc: 0.7199 - val_loss: 0.5549 - val_acc: 0.7468\n",
            "Epoch 66/100\n",
            "614/614 [==============================] - 0s 129us/step - loss: 0.5460 - acc: 0.7264 - val_loss: 0.5787 - val_acc: 0.7403\n",
            "Epoch 67/100\n",
            "614/614 [==============================] - 0s 133us/step - loss: 0.5457 - acc: 0.7296 - val_loss: 0.5572 - val_acc: 0.7468\n",
            "Epoch 68/100\n",
            "614/614 [==============================] - 0s 129us/step - loss: 0.5421 - acc: 0.7215 - val_loss: 0.5544 - val_acc: 0.7273\n",
            "Epoch 69/100\n",
            "614/614 [==============================] - 0s 131us/step - loss: 0.5417 - acc: 0.7296 - val_loss: 0.5553 - val_acc: 0.7273\n",
            "Epoch 70/100\n",
            "614/614 [==============================] - 0s 127us/step - loss: 0.5389 - acc: 0.7362 - val_loss: 0.5510 - val_acc: 0.7468\n",
            "Epoch 71/100\n",
            "614/614 [==============================] - 0s 124us/step - loss: 0.5381 - acc: 0.7264 - val_loss: 0.5510 - val_acc: 0.7273\n",
            "Epoch 72/100\n",
            "614/614 [==============================] - 0s 126us/step - loss: 0.5447 - acc: 0.7199 - val_loss: 0.5469 - val_acc: 0.7468\n",
            "Epoch 73/100\n",
            "614/614 [==============================] - 0s 129us/step - loss: 0.5367 - acc: 0.7329 - val_loss: 0.5463 - val_acc: 0.7468\n",
            "Epoch 74/100\n",
            "614/614 [==============================] - 0s 125us/step - loss: 0.5353 - acc: 0.7410 - val_loss: 0.5434 - val_acc: 0.7468\n",
            "Epoch 75/100\n",
            "614/614 [==============================] - 0s 125us/step - loss: 0.5359 - acc: 0.7329 - val_loss: 0.5432 - val_acc: 0.7532\n",
            "Epoch 76/100\n",
            "614/614 [==============================] - 0s 128us/step - loss: 0.5324 - acc: 0.7394 - val_loss: 0.5405 - val_acc: 0.7532\n",
            "Epoch 77/100\n",
            "614/614 [==============================] - 0s 124us/step - loss: 0.5410 - acc: 0.7248 - val_loss: 0.5447 - val_acc: 0.7403\n",
            "Epoch 78/100\n",
            "614/614 [==============================] - 0s 127us/step - loss: 0.5363 - acc: 0.7329 - val_loss: 0.5416 - val_acc: 0.7532\n",
            "Epoch 79/100\n",
            "614/614 [==============================] - 0s 124us/step - loss: 0.5293 - acc: 0.7362 - val_loss: 0.5393 - val_acc: 0.7403\n",
            "Epoch 80/100\n",
            "614/614 [==============================] - 0s 125us/step - loss: 0.5291 - acc: 0.7443 - val_loss: 0.5392 - val_acc: 0.7338\n",
            "Epoch 81/100\n",
            "614/614 [==============================] - 0s 128us/step - loss: 0.5294 - acc: 0.7345 - val_loss: 0.5431 - val_acc: 0.7468\n",
            "Epoch 82/100\n",
            "614/614 [==============================] - 0s 126us/step - loss: 0.5274 - acc: 0.7345 - val_loss: 0.5381 - val_acc: 0.7468\n",
            "Epoch 83/100\n",
            "614/614 [==============================] - 0s 127us/step - loss: 0.5266 - acc: 0.7296 - val_loss: 0.5367 - val_acc: 0.7532\n",
            "Epoch 84/100\n",
            "614/614 [==============================] - 0s 126us/step - loss: 0.5250 - acc: 0.7264 - val_loss: 0.5310 - val_acc: 0.7532\n",
            "Epoch 85/100\n",
            "614/614 [==============================] - 0s 123us/step - loss: 0.5257 - acc: 0.7410 - val_loss: 0.5331 - val_acc: 0.7597\n",
            "Epoch 86/100\n",
            "614/614 [==============================] - 0s 125us/step - loss: 0.5263 - acc: 0.7410 - val_loss: 0.5429 - val_acc: 0.7403\n",
            "Epoch 87/100\n",
            "614/614 [==============================] - 0s 123us/step - loss: 0.5253 - acc: 0.7199 - val_loss: 0.5378 - val_acc: 0.7468\n",
            "Epoch 88/100\n",
            "614/614 [==============================] - 0s 122us/step - loss: 0.5219 - acc: 0.7410 - val_loss: 0.5304 - val_acc: 0.7662\n",
            "Epoch 89/100\n",
            "614/614 [==============================] - 0s 123us/step - loss: 0.5196 - acc: 0.7394 - val_loss: 0.5296 - val_acc: 0.7403\n",
            "Epoch 90/100\n",
            "614/614 [==============================] - 0s 123us/step - loss: 0.5202 - acc: 0.7362 - val_loss: 0.5285 - val_acc: 0.7532\n",
            "Epoch 91/100\n",
            "614/614 [==============================] - 0s 131us/step - loss: 0.5251 - acc: 0.7313 - val_loss: 0.5358 - val_acc: 0.7468\n",
            "Epoch 92/100\n",
            "614/614 [==============================] - 0s 124us/step - loss: 0.5210 - acc: 0.7573 - val_loss: 0.5272 - val_acc: 0.7468\n",
            "Epoch 93/100\n",
            "614/614 [==============================] - 0s 128us/step - loss: 0.5193 - acc: 0.7296 - val_loss: 0.5312 - val_acc: 0.7273\n",
            "Epoch 94/100\n",
            "614/614 [==============================] - 0s 122us/step - loss: 0.5208 - acc: 0.7410 - val_loss: 0.5233 - val_acc: 0.7597\n",
            "Epoch 95/100\n",
            "614/614 [==============================] - 0s 127us/step - loss: 0.5252 - acc: 0.7345 - val_loss: 0.5369 - val_acc: 0.7597\n",
            "Epoch 96/100\n",
            "614/614 [==============================] - 0s 125us/step - loss: 0.5137 - acc: 0.7410 - val_loss: 0.5280 - val_acc: 0.7468\n",
            "Epoch 97/100\n",
            "614/614 [==============================] - 0s 126us/step - loss: 0.5144 - acc: 0.7476 - val_loss: 0.5299 - val_acc: 0.7532\n",
            "Epoch 98/100\n",
            "614/614 [==============================] - 0s 123us/step - loss: 0.5125 - acc: 0.7459 - val_loss: 0.5268 - val_acc: 0.7468\n",
            "Epoch 99/100\n",
            "614/614 [==============================] - 0s 125us/step - loss: 0.5076 - acc: 0.7508 - val_loss: 0.5409 - val_acc: 0.7468\n",
            "Epoch 100/100\n",
            "614/614 [==============================] - 0s 118us/step - loss: 0.5262 - acc: 0.7459 - val_loss: 0.5317 - val_acc: 0.7468\n"
          ],
          "name": "stdout"
        }
      ]
    },
    {
      "cell_type": "code",
      "metadata": {
        "id": "X8fCPUgxTm9W",
        "colab_type": "code",
        "outputId": "f805f55d-675c-4cb4-f923-64af99df0d0a",
        "colab": {
          "base_uri": "https://localhost:8080/",
          "height": 295
        }
      },
      "source": [
        "plt.plot(history.history['acc'])\n",
        "plt.plot(history.history['val_acc'])\n",
        "plt.title('Model Accuracy')\n",
        "plt.ylabel('accuracy')\n",
        "plt.xlabel('epoch')\n",
        "plt.legend(['train', 'test'])\n",
        "plt.show()"
      ],
      "execution_count": 0,
      "outputs": [
        {
          "output_type": "display_data",
          "data": {
            "image/png": "[encoded data removed]",
            "text/plain": [
              "<Figure size 432x288 with 1 Axes>"
            ]
          },
          "metadata": {
            "tags": []
          }
        }
      ]
    },
    {
      "cell_type": "code",
      "metadata": {
        "id": "ZVyKl_8LTwgZ",
        "colab_type": "code",
        "outputId": "0617bb26-c76f-46da-e960-43a6f8d797d1",
        "colab": {
          "base_uri": "https://localhost:8080/",
          "height": 295
        }
      },
      "source": [
        "plt.plot(history.history['loss'])\n",
        "plt.plot(history.history['val_loss'])\n",
        "plt.title('Model Loss')\n",
        "plt.ylabel('loss')\n",
        "plt.xlabel('epoch')\n",
        "plt.legend(['train', 'test'])\n",
        "plt.show()"
      ],
      "execution_count": 0,
      "outputs": [
        {
          "output_type": "display_data",
          "data": {
            "image/png": "[encoded data removed]",
            "text/plain": [
              "<Figure size 432x288 with 1 Axes>"
            ]
          },
          "metadata": {
            "tags": []
          }
        }
      ]
    },
    {
      "cell_type": "code",
      "metadata": {
        "id": "NTvpKNqGT0wp",
        "colab_type": "code",
        "outputId": "6caaf5dd-924c-4fe6-9321-fd7e65a5f569",
        "colab": {
          "base_uri": "https://localhost:8080/",
          "height": 35
        }
      },
      "source": [
        "scores = model.evaluate(X_test, y_test, verbose=0)\n",
        "print(\"%s: %.2f%%\" % (model.metrics_names[1], scores[1]*100))"
      ],
      "execution_count": 0,
      "outputs": [
        {
          "output_type": "stream",
          "text": [
            "acc: 74.68%\n"
          ],
          "name": "stdout"
        }
      ]
    }
  ]
}