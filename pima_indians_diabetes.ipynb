{
  "nbformat": 4,
  "nbformat_minor": 0,
  "metadata": {
    "colab": {
      "name": "pima indians diabetes.ipynb",
      "version": "0.3.2",
      "provenance": [],
      "include_colab_link": true
    },
    "kernelspec": {
      "name": "python3",
      "display_name": "Python 3"
    }
  },
  "cells": [
    {
      "cell_type": "markdown",
      "metadata": {
        "id": "view-in-github",
        "colab_type": "text"
      },
      "source": [
        "<a href=\"https://colab.research.google.com/github/alirezabayatmk/pima-indians-diabetes/blob/master/pima_indians_diabetes.ipynb\" target=\"_parent\"><img src=\"https://colab.research.google.com/assets/colab-badge.svg\" alt=\"Open In Colab\"/></a>"
      ]
    },
    {
      "cell_type": "code",
      "metadata": {
        "id": "-UlQLTy9GV3L",
        "colab_type": "code",
        "outputId": "aa1cf9ec-0268-426e-9d4a-8a0f6816457d",
        "colab": {
          "base_uri": "https://localhost:8080/",
          "height": 52
        }
      },
      "source": [
        "!pip install -U -q PyDrive\n",
        "from pydrive.auth import GoogleAuth\n",
        "from pydrive.drive import GoogleDrive\n",
        "from google.colab import auth,files\n",
        "from oauth2client.client import GoogleCredentials\n",
        "# Authenticate and create the PyDrive client.\n",
        "auth.authenticate_user()\n",
        "gauth = GoogleAuth()\n",
        "gauth.credentials = GoogleCredentials.get_application_default()\n",
        "drive = GoogleDrive(gauth)"
      ],
      "execution_count": 1,
      "outputs": [
        {
          "output_type": "stream",
          "text": [
            "\u001b[?25l\r\u001b[K     |▎                               | 10kB 16.4MB/s eta 0:00:01\r\u001b[K     |▋                               | 20kB 1.8MB/s eta 0:00:01\r\u001b[K     |█                               | 30kB 2.6MB/s eta 0:00:01\r\u001b[K     |█▎                              | 40kB 1.7MB/s eta 0:00:01\r\u001b[K     |█▋                              | 51kB 2.1MB/s eta 0:00:01\r\u001b[K     |██                              | 61kB 2.5MB/s eta 0:00:01\r\u001b[K     |██▎                             | 71kB 2.9MB/s eta 0:00:01\r\u001b[K     |██▋                             | 81kB 3.3MB/s eta 0:00:01\r\u001b[K     |███                             | 92kB 3.7MB/s eta 0:00:01\r\u001b[K     |███▎                            | 102kB 2.8MB/s eta 0:00:01\r\u001b[K     |███▋                            | 112kB 2.8MB/s eta 0:00:01\r\u001b[K     |████                            | 122kB 2.8MB/s eta 0:00:01\r\u001b[K     |████▎                           | 133kB 2.8MB/s eta 0:00:01\r\u001b[K     |████▋                           | 143kB 2.8MB/s eta 0:00:01\r\u001b[K     |█████                           | 153kB 2.8MB/s eta 0:00:01\r\u001b[K     |█████▎                          | 163kB 2.8MB/s eta 0:00:01\r\u001b[K     |█████▋                          | 174kB 2.8MB/s eta 0:00:01\r\u001b[K     |██████                          | 184kB 2.8MB/s eta 0:00:01\r\u001b[K     |██████▎                         | 194kB 2.8MB/s eta 0:00:01\r\u001b[K     |██████▋                         | 204kB 2.8MB/s eta 0:00:01\r\u001b[K     |███████                         | 215kB 2.8MB/s eta 0:00:01\r\u001b[K     |███████▎                        | 225kB 2.8MB/s eta 0:00:01\r\u001b[K     |███████▋                        | 235kB 2.8MB/s eta 0:00:01\r\u001b[K     |████████                        | 245kB 2.8MB/s eta 0:00:01\r\u001b[K     |████████▎                       | 256kB 2.8MB/s eta 0:00:01\r\u001b[K     |████████▋                       | 266kB 2.8MB/s eta 0:00:01\r\u001b[K     |█████████                       | 276kB 2.8MB/s eta 0:00:01\r\u001b[K     |█████████▎                      | 286kB 2.8MB/s eta 0:00:01\r\u001b[K     |█████████▋                      | 296kB 2.8MB/s eta 0:00:01\r\u001b[K     |██████████                      | 307kB 2.8MB/s eta 0:00:01\r\u001b[K     |██████████▎                     | 317kB 2.8MB/s eta 0:00:01\r\u001b[K     |██████████▋                     | 327kB 2.8MB/s eta 0:00:01\r\u001b[K     |███████████                     | 337kB 2.8MB/s eta 0:00:01\r\u001b[K     |███████████▎                    | 348kB 2.8MB/s eta 0:00:01\r\u001b[K     |███████████▋                    | 358kB 2.8MB/s eta 0:00:01\r\u001b[K     |████████████                    | 368kB 2.8MB/s eta 0:00:01\r\u001b[K     |████████████▎                   | 378kB 2.8MB/s eta 0:00:01\r\u001b[K     |████████████▋                   | 389kB 2.8MB/s eta 0:00:01\r\u001b[K     |█████████████                   | 399kB 2.8MB/s eta 0:00:01\r\u001b[K     |█████████████▎                  | 409kB 2.8MB/s eta 0:00:01\r\u001b[K     |█████████████▋                  | 419kB 2.8MB/s eta 0:00:01\r\u001b[K     |██████████████                  | 430kB 2.8MB/s eta 0:00:01\r\u001b[K     |██████████████▎                 | 440kB 2.8MB/s eta 0:00:01\r\u001b[K     |██████████████▋                 | 450kB 2.8MB/s eta 0:00:01\r\u001b[K     |███████████████                 | 460kB 2.8MB/s eta 0:00:01\r\u001b[K     |███████████████▎                | 471kB 2.8MB/s eta 0:00:01\r\u001b[K     |███████████████▋                | 481kB 2.8MB/s eta 0:00:01\r\u001b[K     |████████████████                | 491kB 2.8MB/s eta 0:00:01\r\u001b[K     |████████████████▎               | 501kB 2.8MB/s eta 0:00:01\r\u001b[K     |████████████████▋               | 512kB 2.8MB/s eta 0:00:01\r\u001b[K     |█████████████████               | 522kB 2.8MB/s eta 0:00:01\r\u001b[K     |█████████████████▎              | 532kB 2.8MB/s eta 0:00:01\r\u001b[K     |█████████████████▋              | 542kB 2.8MB/s eta 0:00:01\r\u001b[K     |██████████████████              | 552kB 2.8MB/s eta 0:00:01\r\u001b[K     |██████████████████▎             | 563kB 2.8MB/s eta 0:00:01\r\u001b[K     |██████████████████▋             | 573kB 2.8MB/s eta 0:00:01\r\u001b[K     |███████████████████             | 583kB 2.8MB/s eta 0:00:01\r\u001b[K     |███████████████████▎            | 593kB 2.8MB/s eta 0:00:01\r\u001b[K     |███████████████████▋            | 604kB 2.8MB/s eta 0:00:01\r\u001b[K     |████████████████████            | 614kB 2.8MB/s eta 0:00:01\r\u001b[K     |████████████████████▎           | 624kB 2.8MB/s eta 0:00:01\r\u001b[K     |████████████████████▋           | 634kB 2.8MB/s eta 0:00:01\r\u001b[K     |█████████████████████           | 645kB 2.8MB/s eta 0:00:01\r\u001b[K     |█████████████████████▎          | 655kB 2.8MB/s eta 0:00:01\r\u001b[K     |█████████████████████▋          | 665kB 2.8MB/s eta 0:00:01\r\u001b[K     |██████████████████████          | 675kB 2.8MB/s eta 0:00:01\r\u001b[K     |██████████████████████▎         | 686kB 2.8MB/s eta 0:00:01\r\u001b[K     |██████████████████████▋         | 696kB 2.8MB/s eta 0:00:01\r\u001b[K     |███████████████████████         | 706kB 2.8MB/s eta 0:00:01\r\u001b[K     |███████████████████████▎        | 716kB 2.8MB/s eta 0:00:01\r\u001b[K     |███████████████████████▋        | 727kB 2.8MB/s eta 0:00:01\r\u001b[K     |████████████████████████        | 737kB 2.8MB/s eta 0:00:01\r\u001b[K     |████████████████████████▎       | 747kB 2.8MB/s eta 0:00:01\r\u001b[K     |████████████████████████▋       | 757kB 2.8MB/s eta 0:00:01\r\u001b[K     |████████████████████████▉       | 768kB 2.8MB/s eta 0:00:01\r\u001b[K     |█████████████████████████▏      | 778kB 2.8MB/s eta 0:00:01\r\u001b[K     |█████████████████████████▌      | 788kB 2.8MB/s eta 0:00:01\r\u001b[K     |█████████████████████████▉      | 798kB 2.8MB/s eta 0:00:01\r\u001b[K     |██████████████████████████▏     | 808kB 2.8MB/s eta 0:00:01\r\u001b[K     |██████████████████████████▌     | 819kB 2.8MB/s eta 0:00:01\r\u001b[K     |██████████████████████████▉     | 829kB 2.8MB/s eta 0:00:01\r\u001b[K     |███████████████████████████▏    | 839kB 2.8MB/s eta 0:00:01\r\u001b[K     |███████████████████████████▌    | 849kB 2.8MB/s eta 0:00:01\r\u001b[K     |███████████████████████████▉    | 860kB 2.8MB/s eta 0:00:01\r\u001b[K     |████████████████████████████▏   | 870kB 2.8MB/s eta 0:00:01\r\u001b[K     |████████████████████████████▌   | 880kB 2.8MB/s eta 0:00:01\r\u001b[K     |████████████████████████████▉   | 890kB 2.8MB/s eta 0:00:01\r\u001b[K     |█████████████████████████████▏  | 901kB 2.8MB/s eta 0:00:01\r\u001b[K     |█████████████████████████████▌  | 911kB 2.8MB/s eta 0:00:01\r\u001b[K     |█████████████████████████████▉  | 921kB 2.8MB/s eta 0:00:01\r\u001b[K     |██████████████████████████████▏ | 931kB 2.8MB/s eta 0:00:01\r\u001b[K     |██████████████████████████████▌ | 942kB 2.8MB/s eta 0:00:01\r\u001b[K     |██████████████████████████████▉ | 952kB 2.8MB/s eta 0:00:01\r\u001b[K     |███████████████████████████████▏| 962kB 2.8MB/s eta 0:00:01\r\u001b[K     |███████████████████████████████▌| 972kB 2.8MB/s eta 0:00:01\r\u001b[K     |███████████████████████████████▉| 983kB 2.8MB/s eta 0:00:01\r\u001b[K     |████████████████████████████████| 993kB 2.8MB/s \n",
            "\u001b[?25h  Building wheel for PyDrive (setup.py) ... \u001b[?25l\u001b[?25hdone\n"
          ],
          "name": "stdout"
        }
      ]
    },
    {
      "cell_type": "code",
      "metadata": {
        "id": "yfxEpPOhJTBk",
        "colab_type": "code",
        "outputId": "c8229a43-c63c-4a3c-a676-42a1338c4f65",
        "colab": {
          "base_uri": "https://localhost:8080/",
          "height": 35
        }
      },
      "source": [
        "link = 'https://drive.google.com/open?id=1xVIYBHSvvMwF3yo3ePGI9t_4W98fsPNe'\n",
        "fluff, id = link.split('=')\n",
        "print (id) # Verify that you have everything after '='\n",
        "downloaded = drive.CreateFile({'id':id}) \n",
        "downloaded.GetContentFile('diabetes.csv')  \n",
        "d_data = pd.read_csv('diabetes.csv')\n",
        "# Dataset is now stored in a Pandas Dataframe"
      ],
      "execution_count": 4,
      "outputs": [
        {
          "output_type": "stream",
          "text": [
            "1xVIYBHSvvMwF3yo3ePGI9t_4W98fsPNe\n"
          ],
          "name": "stdout"
        }
      ]
    },
    {
      "cell_type": "code",
      "metadata": {
        "id": "zlKeKt2bKH3C",
        "colab_type": "code",
        "outputId": "a1b8072f-385f-4665-c607-970bae5cac26",
        "colab": {
          "base_uri": "https://localhost:8080/",
          "height": 35
        }
      },
      "source": [
        "import numpy as np\n",
        "import pandas as pd\n",
        "import matplotlib.pyplot as plt\n",
        "%matplotlib inline\n",
        "\n",
        "from keras.models import Sequential\n",
        "from keras.layers import Dense\n",
        "from keras.callbacks import ModelCheckpoint\n",
        "from sklearn.model_selection import train_test_split\n",
        "\n",
        "seed = 42\n",
        "np.random.seed(seed)"
      ],
      "execution_count": 3,
      "outputs": [
        {
          "output_type": "stream",
          "text": [
            "Using TensorFlow backend.\n"
          ],
          "name": "stderr"
        }
      ]
    },
    {
      "cell_type": "code",
      "metadata": {
        "id": "hrsPXxBuOz6W",
        "colab_type": "code",
        "outputId": "262165e3-dd57-4b44-8102-8715c5776d39",
        "colab": {
          "base_uri": "https://localhost:8080/",
          "height": 204
        }
      },
      "source": [
        "d_data.head(5)"
      ],
      "execution_count": 0,
      "outputs": [
        {
          "output_type": "execute_result",
          "data": {
            "text/html": [
              "<div>\n",
              "<style scoped>\n",
              "    .dataframe tbody tr th:only-of-type {\n",
              "        vertical-align: middle;\n",
              "    }\n",
              "\n",
              "    .dataframe tbody tr th {\n",
              "        vertical-align: top;\n",
              "    }\n",
              "\n",
              "    .dataframe thead th {\n",
              "        text-align: right;\n",
              "    }\n",
              "</style>\n",
              "<table border=\"1\" class=\"dataframe\">\n",
              "  <thead>\n",
              "    <tr style=\"text-align: right;\">\n",
              "      <th></th>\n",
              "      <th>Pregnancies</th>\n",
              "      <th>Glucose</th>\n",
              "      <th>BloodPressure</th>\n",
              "      <th>SkinThickness</th>\n",
              "      <th>Insulin</th>\n",
              "      <th>BMI</th>\n",
              "      <th>DiabetesPedigreeFunction</th>\n",
              "      <th>Age</th>\n",
              "      <th>Outcome</th>\n",
              "    </tr>\n",
              "  </thead>\n",
              "  <tbody>\n",
              "    <tr>\n",
              "      <th>0</th>\n",
              "      <td>6</td>\n",
              "      <td>148</td>\n",
              "      <td>72</td>\n",
              "      <td>35</td>\n",
              "      <td>0</td>\n",
              "      <td>33.6</td>\n",
              "      <td>0.627</td>\n",
              "      <td>50</td>\n",
              "      <td>1</td>\n",
              "    </tr>\n",
              "    <tr>\n",
              "      <th>1</th>\n",
              "      <td>1</td>\n",
              "      <td>85</td>\n",
              "      <td>66</td>\n",
              "      <td>29</td>\n",
              "      <td>0</td>\n",
              "      <td>26.6</td>\n",
              "      <td>0.351</td>\n",
              "      <td>31</td>\n",
              "      <td>0</td>\n",
              "    </tr>\n",
              "    <tr>\n",
              "      <th>2</th>\n",
              "      <td>8</td>\n",
              "      <td>183</td>\n",
              "      <td>64</td>\n",
              "      <td>0</td>\n",
              "      <td>0</td>\n",
              "      <td>23.3</td>\n",
              "      <td>0.672</td>\n",
              "      <td>32</td>\n",
              "      <td>1</td>\n",
              "    </tr>\n",
              "    <tr>\n",
              "      <th>3</th>\n",
              "      <td>1</td>\n",
              "      <td>89</td>\n",
              "      <td>66</td>\n",
              "      <td>23</td>\n",
              "      <td>94</td>\n",
              "      <td>28.1</td>\n",
              "      <td>0.167</td>\n",
              "      <td>21</td>\n",
              "      <td>0</td>\n",
              "    </tr>\n",
              "    <tr>\n",
              "      <th>4</th>\n",
              "      <td>0</td>\n",
              "      <td>137</td>\n",
              "      <td>40</td>\n",
              "      <td>35</td>\n",
              "      <td>168</td>\n",
              "      <td>43.1</td>\n",
              "      <td>2.288</td>\n",
              "      <td>33</td>\n",
              "      <td>1</td>\n",
              "    </tr>\n",
              "  </tbody>\n",
              "</table>\n",
              "</div>"
            ],
            "text/plain": [
              "   Pregnancies  Glucose  BloodPressure  ...  DiabetesPedigreeFunction  Age  Outcome\n",
              "0            6      148             72  ...                     0.627   50        1\n",
              "1            1       85             66  ...                     0.351   31        0\n",
              "2            8      183             64  ...                     0.672   32        1\n",
              "3            1       89             66  ...                     0.167   21        0\n",
              "4            0      137             40  ...                     2.288   33        1\n",
              "\n",
              "[5 rows x 9 columns]"
            ]
          },
          "metadata": {
            "tags": []
          },
          "execution_count": 13
        }
      ]
    },
    {
      "cell_type": "code",
      "metadata": {
        "id": "G4Fl_85RK9HA",
        "colab_type": "code",
        "outputId": "e5eab2f6-c036-46ac-add0-6da4b9f17675",
        "colab": {
          "base_uri": "https://localhost:8080/",
          "height": 297
        }
      },
      "source": [
        "d_data.describe()"
      ],
      "execution_count": 0,
      "outputs": [
        {
          "output_type": "execute_result",
          "data": {
            "text/html": [
              "<div>\n",
              "<style scoped>\n",
              "    .dataframe tbody tr th:only-of-type {\n",
              "        vertical-align: middle;\n",
              "    }\n",
              "\n",
              "    .dataframe tbody tr th {\n",
              "        vertical-align: top;\n",
              "    }\n",
              "\n",
              "    .dataframe thead th {\n",
              "        text-align: right;\n",
              "    }\n",
              "</style>\n",
              "<table border=\"1\" class=\"dataframe\">\n",
              "  <thead>\n",
              "    <tr style=\"text-align: right;\">\n",
              "      <th></th>\n",
              "      <th>Pregnancies</th>\n",
              "      <th>Glucose</th>\n",
              "      <th>BloodPressure</th>\n",
              "      <th>SkinThickness</th>\n",
              "      <th>Insulin</th>\n",
              "      <th>BMI</th>\n",
              "      <th>DiabetesPedigreeFunction</th>\n",
              "      <th>Age</th>\n",
              "      <th>Outcome</th>\n",
              "    </tr>\n",
              "  </thead>\n",
              "  <tbody>\n",
              "    <tr>\n",
              "      <th>count</th>\n",
              "      <td>768.000000</td>\n",
              "      <td>768.000000</td>\n",
              "      <td>768.000000</td>\n",
              "      <td>768.000000</td>\n",
              "      <td>768.000000</td>\n",
              "      <td>768.000000</td>\n",
              "      <td>768.000000</td>\n",
              "      <td>768.000000</td>\n",
              "      <td>768.000000</td>\n",
              "    </tr>\n",
              "    <tr>\n",
              "      <th>mean</th>\n",
              "      <td>3.845052</td>\n",
              "      <td>120.894531</td>\n",
              "      <td>69.105469</td>\n",
              "      <td>20.536458</td>\n",
              "      <td>79.799479</td>\n",
              "      <td>31.992578</td>\n",
              "      <td>0.471876</td>\n",
              "      <td>33.240885</td>\n",
              "      <td>0.348958</td>\n",
              "    </tr>\n",
              "    <tr>\n",
              "      <th>std</th>\n",
              "      <td>3.369578</td>\n",
              "      <td>31.972618</td>\n",
              "      <td>19.355807</td>\n",
              "      <td>15.952218</td>\n",
              "      <td>115.244002</td>\n",
              "      <td>7.884160</td>\n",
              "      <td>0.331329</td>\n",
              "      <td>11.760232</td>\n",
              "      <td>0.476951</td>\n",
              "    </tr>\n",
              "    <tr>\n",
              "      <th>min</th>\n",
              "      <td>0.000000</td>\n",
              "      <td>0.000000</td>\n",
              "      <td>0.000000</td>\n",
              "      <td>0.000000</td>\n",
              "      <td>0.000000</td>\n",
              "      <td>0.000000</td>\n",
              "      <td>0.078000</td>\n",
              "      <td>21.000000</td>\n",
              "      <td>0.000000</td>\n",
              "    </tr>\n",
              "    <tr>\n",
              "      <th>25%</th>\n",
              "      <td>1.000000</td>\n",
              "      <td>99.000000</td>\n",
              "      <td>62.000000</td>\n",
              "      <td>0.000000</td>\n",
              "      <td>0.000000</td>\n",
              "      <td>27.300000</td>\n",
              "      <td>0.243750</td>\n",
              "      <td>24.000000</td>\n",
              "      <td>0.000000</td>\n",
              "    </tr>\n",
              "    <tr>\n",
              "      <th>50%</th>\n",
              "      <td>3.000000</td>\n",
              "      <td>117.000000</td>\n",
              "      <td>72.000000</td>\n",
              "      <td>23.000000</td>\n",
              "      <td>30.500000</td>\n",
              "      <td>32.000000</td>\n",
              "      <td>0.372500</td>\n",
              "      <td>29.000000</td>\n",
              "      <td>0.000000</td>\n",
              "    </tr>\n",
              "    <tr>\n",
              "      <th>75%</th>\n",
              "      <td>6.000000</td>\n",
              "      <td>140.250000</td>\n",
              "      <td>80.000000</td>\n",
              "      <td>32.000000</td>\n",
              "      <td>127.250000</td>\n",
              "      <td>36.600000</td>\n",
              "      <td>0.626250</td>\n",
              "      <td>41.000000</td>\n",
              "      <td>1.000000</td>\n",
              "    </tr>\n",
              "    <tr>\n",
              "      <th>max</th>\n",
              "      <td>17.000000</td>\n",
              "      <td>199.000000</td>\n",
              "      <td>122.000000</td>\n",
              "      <td>99.000000</td>\n",
              "      <td>846.000000</td>\n",
              "      <td>67.100000</td>\n",
              "      <td>2.420000</td>\n",
              "      <td>81.000000</td>\n",
              "      <td>1.000000</td>\n",
              "    </tr>\n",
              "  </tbody>\n",
              "</table>\n",
              "</div>"
            ],
            "text/plain": [
              "       Pregnancies     Glucose  ...         Age     Outcome\n",
              "count   768.000000  768.000000  ...  768.000000  768.000000\n",
              "mean      3.845052  120.894531  ...   33.240885    0.348958\n",
              "std       3.369578   31.972618  ...   11.760232    0.476951\n",
              "min       0.000000    0.000000  ...   21.000000    0.000000\n",
              "25%       1.000000   99.000000  ...   24.000000    0.000000\n",
              "50%       3.000000  117.000000  ...   29.000000    0.000000\n",
              "75%       6.000000  140.250000  ...   41.000000    1.000000\n",
              "max      17.000000  199.000000  ...   81.000000    1.000000\n",
              "\n",
              "[8 rows x 9 columns]"
            ]
          },
          "metadata": {
            "tags": []
          },
          "execution_count": 14
        }
      ]
    },
    {
      "cell_type": "code",
      "metadata": {
        "id": "_QJZ7ox7NBnf",
        "colab_type": "code",
        "colab": {}
      },
      "source": [
        "x = d_data.iloc[:,:-1].values\n",
        "y = d_data.iloc[:,-1].values\n",
        "X_train , X_test , y_train , y_test= train_test_split(x , y , test_size=0.2 , random_state=1)"
      ],
      "execution_count": 0,
      "outputs": []
    },
    {
      "cell_type": "code",
      "metadata": {
        "id": "dE9PJhvwPCc5",
        "colab_type": "code",
        "outputId": "9b716f56-6d7f-4451-ff3e-85f94fd44f91",
        "colab": {
          "base_uri": "https://localhost:8080/",
          "height": 105
        }
      },
      "source": [
        "zero_fields = ['Glucose', 'BloodPressure', 'SkinThickness', 'Insulin', 'BMI']\n",
        "\n",
        "def check_zero_entries(data, fields):\n",
        "    \"\"\" List number of 0-entries in each of the given fields\"\"\"\n",
        "    for field in fields:\n",
        "        print('field %s: num 0-entries: %d' % (field, len(data.loc[ data[field] == 0, field ])))\n",
        "\n",
        "check_zero_entries(d_data, zero_fields)"
      ],
      "execution_count": 9,
      "outputs": [
        {
          "output_type": "stream",
          "text": [
            "field Glucose: num 0-entries: 5\n",
            "field BloodPressure: num 0-entries: 35\n",
            "field SkinThickness: num 0-entries: 227\n",
            "field Insulin: num 0-entries: 374\n",
            "field BMI: num 0-entries: 11\n"
          ],
          "name": "stdout"
        }
      ]
    },
    {
      "cell_type": "code",
      "metadata": {
        "id": "Lo-3-oSlPjUW",
        "colab_type": "code",
        "outputId": "c251c7ab-b9d4-4de9-e197-746ef342e0b1",
        "colab": {
          "base_uri": "https://localhost:8080/",
          "height": 70
        }
      },
      "source": [
        "features = list(d_data.columns.values)\n",
        "features.remove('Outcome')\n",
        "print(features)\n",
        "X = d_data[features]\n",
        "y = d_data['Outcome']\n",
        "\n",
        "X_train, X_test, y_train, y_test = train_test_split(X, y, test_size=0.20, random_state=1)\n",
        "\n",
        "print(X_train.shape)\n",
        "print(X_test.shape)"
      ],
      "execution_count": 6,
      "outputs": [
        {
          "output_type": "stream",
          "text": [
            "['Pregnancies', 'Glucose', 'BloodPressure', 'SkinThickness', 'Insulin', 'BMI', 'DiabetesPedigreeFunction', 'Age']\n",
            "(614, 8)\n",
            "(154, 8)\n"
          ],
          "name": "stdout"
        }
      ]
    },
    {
      "cell_type": "code",
      "metadata": {
        "id": "oVAbIy65P7dD",
        "colab_type": "code",
        "colab": {}
      },
      "source": [
        "def impute_zero_field(data, field):\n",
        "    nonzero_vals = data.loc[data[field] != 0, field]\n",
        "    avg = np.sum(nonzero_vals) / len(nonzero_vals)\n",
        "    k = len(data.loc[ data[field] == 0, field])   # num of 0-entries\n",
        "    data.loc[ data[field] == 0, field ] = avg\n",
        "    print('Field: %s; fixed %d entries with value: %.3f' % (field, k, avg))"
      ],
      "execution_count": 0,
      "outputs": []
    },
    {
      "cell_type": "code",
      "metadata": {
        "id": "3zsMxMpiP_a-",
        "colab_type": "code",
        "outputId": "eb075ed9-b73c-4fc1-93e6-eac1e4c2da6f",
        "colab": {
          "base_uri": "https://localhost:8080/",
          "height": 211
        }
      },
      "source": [
        "for field in zero_fields:\n",
        "    impute_zero_field(X_train, field)"
      ],
      "execution_count": 11,
      "outputs": [
        {
          "output_type": "stream",
          "text": [
            "/usr/local/lib/python3.6/dist-packages/pandas/core/indexing.py:543: SettingWithCopyWarning: \n",
            "A value is trying to be set on a copy of a slice from a DataFrame.\n",
            "Try using .loc[row_indexer,col_indexer] = value instead\n",
            "\n",
            "See the caveats in the documentation: http://pandas.pydata.org/pandas-docs/stable/indexing.html#indexing-view-versus-copy\n",
            "  self.obj[item] = s\n"
          ],
          "name": "stderr"
        },
        {
          "output_type": "stream",
          "text": [
            "Field: Glucose; fixed 3 entries with value: 121.853\n",
            "Field: BloodPressure; fixed 29 entries with value: 72.275\n",
            "Field: SkinThickness; fixed 191 entries with value: 28.771\n",
            "Field: Insulin; fixed 306 entries with value: 157.558\n",
            "Field: BMI; fixed 7 entries with value: 32.200\n"
          ],
          "name": "stdout"
        }
      ]
    },
    {
      "cell_type": "code",
      "metadata": {
        "id": "7lPH4fY0QDJM",
        "colab_type": "code",
        "outputId": "ff73f89d-b4e9-4123-bf67-a96db74e7192",
        "colab": {
          "base_uri": "https://localhost:8080/",
          "height": 105
        }
      },
      "source": [
        "check_zero_entries(X_train, zero_fields)"
      ],
      "execution_count": 12,
      "outputs": [
        {
          "output_type": "stream",
          "text": [
            "field Glucose: num 0-entries: 0\n",
            "field BloodPressure: num 0-entries: 0\n",
            "field SkinThickness: num 0-entries: 0\n",
            "field Insulin: num 0-entries: 0\n",
            "field BMI: num 0-entries: 0\n"
          ],
          "name": "stdout"
        }
      ]
    },
    {
      "cell_type": "code",
      "metadata": {
        "id": "tM5Md1qyQFBY",
        "colab_type": "code",
        "outputId": "8cfc1880-916b-4351-cf1c-29f099104ef3",
        "colab": {
          "base_uri": "https://localhost:8080/",
          "height": 211
        }
      },
      "source": [
        "for field in zero_fields:\n",
        "    impute_zero_field(X_test, field)"
      ],
      "execution_count": 13,
      "outputs": [
        {
          "output_type": "stream",
          "text": [
            "/usr/local/lib/python3.6/dist-packages/pandas/core/indexing.py:543: SettingWithCopyWarning: \n",
            "A value is trying to be set on a copy of a slice from a DataFrame.\n",
            "Try using .loc[row_indexer,col_indexer] = value instead\n",
            "\n",
            "See the caveats in the documentation: http://pandas.pydata.org/pandas-docs/stable/indexing.html#indexing-view-versus-copy\n",
            "  self.obj[item] = s\n"
          ],
          "name": "stderr"
        },
        {
          "output_type": "stream",
          "text": [
            "Field: Glucose; fixed 2 entries with value: 121.020\n",
            "Field: BloodPressure; fixed 6 entries with value: 72.919\n",
            "Field: SkinThickness; fixed 36 entries with value: 30.525\n",
            "Field: Insulin; fixed 68 entries with value: 148.349\n",
            "Field: BMI; fixed 4 entries with value: 33.501\n"
          ],
          "name": "stdout"
        }
      ]
    },
    {
      "cell_type": "code",
      "metadata": {
        "id": "SK5alsTSQG12",
        "colab_type": "code",
        "outputId": "3c09bb81-705d-411c-ab19-866bd8cc2810",
        "colab": {
          "base_uri": "https://localhost:8080/",
          "height": 105
        }
      },
      "source": [
        "check_zero_entries(X_test, zero_fields)"
      ],
      "execution_count": 14,
      "outputs": [
        {
          "output_type": "stream",
          "text": [
            "field Glucose: num 0-entries: 0\n",
            "field BloodPressure: num 0-entries: 0\n",
            "field SkinThickness: num 0-entries: 0\n",
            "field Insulin: num 0-entries: 0\n",
            "field BMI: num 0-entries: 0\n"
          ],
          "name": "stdout"
        }
      ]
    },
    {
      "cell_type": "code",
      "metadata": {
        "id": "aLlfAEBqQQbk",
        "colab_type": "code",
        "colab": {}
      },
      "source": [
        "X_train = X_train.values\n",
        "y_train = y_train.values\n",
        "X_test  = X_test.values\n",
        "y_test  = y_test.values"
      ],
      "execution_count": 0,
      "outputs": []
    },
    {
      "cell_type": "code",
      "metadata": {
        "id": "X5npB7fOQVW3",
        "colab_type": "code",
        "outputId": "7e7d4b89-3f83-498f-c30c-b3923b019764",
        "colab": {
          "base_uri": "https://localhost:8080/",
          "height": 5493
        }
      },
      "source": [
        "NB_EPOCHS = 150  \n",
        "BATCH_SIZE = 5\n",
        "\n",
        "\n",
        "model = Sequential()\n",
        "\n",
        "model.add(Dense(12, input_dim=8, init='uniform', activation='relu'))\n",
        "model.add(Dense(8, init='uniform', activation='relu'))\n",
        "model.add(Dense(1, init='uniform', activation='sigmoid' ))\n",
        "\n",
        "model.compile(loss='binary_crossentropy' ,optimizer='adam' ,metrics=['accuracy'])\n",
        "\n",
        "print('Starting training...')\n",
        "history = model.fit(X_train ,y_train ,validation_data=(X_test, y_test) ,nb_epoch=NB_EPOCHS ,batch_size=BATCH_SIZE ,verbose=1)"
      ],
      "execution_count": 17,
      "outputs": [
        {
          "output_type": "stream",
          "text": [
            "/usr/local/lib/python3.6/dist-packages/ipykernel_launcher.py:7: UserWarning: Update your `Dense` call to the Keras 2 API: `Dense(12, input_dim=8, activation=\"relu\", kernel_initializer=\"uniform\")`\n",
            "  import sys\n",
            "/usr/local/lib/python3.6/dist-packages/ipykernel_launcher.py:8: UserWarning: Update your `Dense` call to the Keras 2 API: `Dense(8, activation=\"relu\", kernel_initializer=\"uniform\")`\n",
            "  \n",
            "/usr/local/lib/python3.6/dist-packages/ipykernel_launcher.py:9: UserWarning: Update your `Dense` call to the Keras 2 API: `Dense(1, activation=\"sigmoid\", kernel_initializer=\"uniform\")`\n",
            "  if __name__ == '__main__':\n",
            "/usr/local/lib/python3.6/dist-packages/ipykernel_launcher.py:14: UserWarning: The `nb_epoch` argument in `fit` has been renamed `epochs`.\n",
            "  \n"
          ],
          "name": "stderr"
        },
        {
          "output_type": "stream",
          "text": [
            "Starting training...\n",
            "Train on 614 samples, validate on 154 samples\n",
            "Epoch 1/150\n",
            "614/614 [==============================] - 0s 692us/step - loss: 0.6734 - acc: 0.6466 - val_loss: 0.6712 - val_acc: 0.6429\n",
            "Epoch 2/150\n",
            "614/614 [==============================] - 0s 268us/step - loss: 0.6650 - acc: 0.6531 - val_loss: 0.6652 - val_acc: 0.6429\n",
            "Epoch 3/150\n",
            "614/614 [==============================] - 0s 265us/step - loss: 0.6553 - acc: 0.6531 - val_loss: 0.6568 - val_acc: 0.6429\n",
            "Epoch 4/150\n",
            "614/614 [==============================] - 0s 268us/step - loss: 0.6381 - acc: 0.6596 - val_loss: 0.6436 - val_acc: 0.6429\n",
            "Epoch 5/150\n",
            "614/614 [==============================] - 0s 266us/step - loss: 0.6231 - acc: 0.6710 - val_loss: 0.6724 - val_acc: 0.6558\n",
            "Epoch 6/150\n",
            "614/614 [==============================] - 0s 272us/step - loss: 0.6143 - acc: 0.6873 - val_loss: 0.6372 - val_acc: 0.6494\n",
            "Epoch 7/150\n",
            "614/614 [==============================] - 0s 272us/step - loss: 0.6169 - acc: 0.7020 - val_loss: 0.6200 - val_acc: 0.6623\n",
            "Epoch 8/150\n",
            "614/614 [==============================] - 0s 296us/step - loss: 0.6071 - acc: 0.6661 - val_loss: 0.6141 - val_acc: 0.6883\n",
            "Epoch 9/150\n",
            "614/614 [==============================] - 0s 260us/step - loss: 0.5954 - acc: 0.7150 - val_loss: 0.6685 - val_acc: 0.6623\n",
            "Epoch 10/150\n",
            "614/614 [==============================] - 0s 265us/step - loss: 0.5961 - acc: 0.6954 - val_loss: 0.6143 - val_acc: 0.6818\n",
            "Epoch 11/150\n",
            "614/614 [==============================] - 0s 256us/step - loss: 0.5829 - acc: 0.7068 - val_loss: 0.5974 - val_acc: 0.6818\n",
            "Epoch 12/150\n",
            "614/614 [==============================] - 0s 270us/step - loss: 0.5850 - acc: 0.6954 - val_loss: 0.5931 - val_acc: 0.7078\n",
            "Epoch 13/150\n",
            "614/614 [==============================] - 0s 260us/step - loss: 0.5838 - acc: 0.7068 - val_loss: 0.5920 - val_acc: 0.7143\n",
            "Epoch 14/150\n",
            "614/614 [==============================] - 0s 264us/step - loss: 0.5832 - acc: 0.7036 - val_loss: 0.5883 - val_acc: 0.7273\n",
            "Epoch 15/150\n",
            "614/614 [==============================] - 0s 259us/step - loss: 0.5768 - acc: 0.7101 - val_loss: 0.5971 - val_acc: 0.7273\n",
            "Epoch 16/150\n",
            "614/614 [==============================] - 0s 267us/step - loss: 0.5686 - acc: 0.7068 - val_loss: 0.5837 - val_acc: 0.7078\n",
            "Epoch 17/150\n",
            "614/614 [==============================] - 0s 270us/step - loss: 0.5820 - acc: 0.6938 - val_loss: 0.5901 - val_acc: 0.7208\n",
            "Epoch 18/150\n",
            "614/614 [==============================] - 0s 253us/step - loss: 0.5710 - acc: 0.7052 - val_loss: 0.5888 - val_acc: 0.7208\n",
            "Epoch 19/150\n",
            "614/614 [==============================] - 0s 279us/step - loss: 0.5679 - acc: 0.7199 - val_loss: 0.5953 - val_acc: 0.7273\n",
            "Epoch 20/150\n",
            "614/614 [==============================] - 0s 258us/step - loss: 0.5704 - acc: 0.7052 - val_loss: 0.5945 - val_acc: 0.7273\n",
            "Epoch 21/150\n",
            "614/614 [==============================] - 0s 264us/step - loss: 0.5720 - acc: 0.6971 - val_loss: 0.5869 - val_acc: 0.7078\n",
            "Epoch 22/150\n",
            "614/614 [==============================] - 0s 253us/step - loss: 0.5680 - acc: 0.7052 - val_loss: 0.5844 - val_acc: 0.7273\n",
            "Epoch 23/150\n",
            "614/614 [==============================] - 0s 266us/step - loss: 0.5630 - acc: 0.7215 - val_loss: 0.6022 - val_acc: 0.6429\n",
            "Epoch 24/150\n",
            "614/614 [==============================] - 0s 261us/step - loss: 0.5668 - acc: 0.6954 - val_loss: 0.5782 - val_acc: 0.7143\n",
            "Epoch 25/150\n",
            "614/614 [==============================] - 0s 266us/step - loss: 0.5675 - acc: 0.7036 - val_loss: 0.5781 - val_acc: 0.7143\n",
            "Epoch 26/150\n",
            "614/614 [==============================] - 0s 258us/step - loss: 0.5624 - acc: 0.7199 - val_loss: 0.5840 - val_acc: 0.7273\n",
            "Epoch 27/150\n",
            "614/614 [==============================] - 0s 272us/step - loss: 0.5749 - acc: 0.6971 - val_loss: 0.5842 - val_acc: 0.6948\n",
            "Epoch 28/150\n",
            "614/614 [==============================] - 0s 254us/step - loss: 0.5620 - acc: 0.6987 - val_loss: 0.5758 - val_acc: 0.7273\n",
            "Epoch 29/150\n",
            "614/614 [==============================] - 0s 267us/step - loss: 0.5604 - acc: 0.7199 - val_loss: 0.5848 - val_acc: 0.7273\n",
            "Epoch 30/150\n",
            "614/614 [==============================] - 0s 285us/step - loss: 0.5678 - acc: 0.7068 - val_loss: 0.5786 - val_acc: 0.7273\n",
            "Epoch 31/150\n",
            "614/614 [==============================] - 0s 273us/step - loss: 0.5599 - acc: 0.7020 - val_loss: 0.5830 - val_acc: 0.7143\n",
            "Epoch 32/150\n",
            "614/614 [==============================] - 0s 257us/step - loss: 0.5609 - acc: 0.7068 - val_loss: 0.5783 - val_acc: 0.6948\n",
            "Epoch 33/150\n",
            "614/614 [==============================] - 0s 276us/step - loss: 0.5611 - acc: 0.7215 - val_loss: 0.5750 - val_acc: 0.7273\n",
            "Epoch 34/150\n",
            "614/614 [==============================] - 0s 264us/step - loss: 0.5597 - acc: 0.6987 - val_loss: 0.5703 - val_acc: 0.7532\n",
            "Epoch 35/150\n",
            "614/614 [==============================] - 0s 266us/step - loss: 0.5561 - acc: 0.7117 - val_loss: 0.5701 - val_acc: 0.7078\n",
            "Epoch 36/150\n",
            "614/614 [==============================] - 0s 265us/step - loss: 0.5556 - acc: 0.7264 - val_loss: 0.5802 - val_acc: 0.7208\n",
            "Epoch 37/150\n",
            "614/614 [==============================] - 0s 261us/step - loss: 0.5649 - acc: 0.7036 - val_loss: 0.5700 - val_acc: 0.7143\n",
            "Epoch 38/150\n",
            "614/614 [==============================] - 0s 266us/step - loss: 0.5557 - acc: 0.7085 - val_loss: 0.5655 - val_acc: 0.7532\n",
            "Epoch 39/150\n",
            "614/614 [==============================] - 0s 263us/step - loss: 0.5566 - acc: 0.7036 - val_loss: 0.5685 - val_acc: 0.6948\n",
            "Epoch 40/150\n",
            "614/614 [==============================] - 0s 258us/step - loss: 0.5631 - acc: 0.7068 - val_loss: 0.5712 - val_acc: 0.7208\n",
            "Epoch 41/150\n",
            "614/614 [==============================] - 0s 272us/step - loss: 0.5514 - acc: 0.7248 - val_loss: 0.5635 - val_acc: 0.7468\n",
            "Epoch 42/150\n",
            "614/614 [==============================] - 0s 260us/step - loss: 0.5561 - acc: 0.7248 - val_loss: 0.5631 - val_acc: 0.7338\n",
            "Epoch 43/150\n",
            "614/614 [==============================] - 0s 256us/step - loss: 0.5536 - acc: 0.7248 - val_loss: 0.5695 - val_acc: 0.7273\n",
            "Epoch 44/150\n",
            "614/614 [==============================] - 0s 261us/step - loss: 0.5531 - acc: 0.7264 - val_loss: 0.5666 - val_acc: 0.7143\n",
            "Epoch 45/150\n",
            "614/614 [==============================] - 0s 288us/step - loss: 0.5550 - acc: 0.7248 - val_loss: 0.5784 - val_acc: 0.7338\n",
            "Epoch 46/150\n",
            "614/614 [==============================] - 0s 266us/step - loss: 0.5551 - acc: 0.7313 - val_loss: 0.5607 - val_acc: 0.7208\n",
            "Epoch 47/150\n",
            "614/614 [==============================] - 0s 266us/step - loss: 0.5532 - acc: 0.7215 - val_loss: 0.5596 - val_acc: 0.7468\n",
            "Epoch 48/150\n",
            "614/614 [==============================] - 0s 266us/step - loss: 0.5586 - acc: 0.7166 - val_loss: 0.5810 - val_acc: 0.7403\n",
            "Epoch 49/150\n",
            "614/614 [==============================] - 0s 268us/step - loss: 0.5574 - acc: 0.7231 - val_loss: 0.5695 - val_acc: 0.7403\n",
            "Epoch 50/150\n",
            "614/614 [==============================] - 0s 267us/step - loss: 0.5437 - acc: 0.7199 - val_loss: 0.5593 - val_acc: 0.7078\n",
            "Epoch 51/150\n",
            "614/614 [==============================] - 0s 264us/step - loss: 0.5484 - acc: 0.7101 - val_loss: 0.5716 - val_acc: 0.7273\n",
            "Epoch 52/150\n",
            "614/614 [==============================] - 0s 267us/step - loss: 0.5475 - acc: 0.7296 - val_loss: 0.5542 - val_acc: 0.7597\n",
            "Epoch 53/150\n",
            "614/614 [==============================] - 0s 259us/step - loss: 0.5465 - acc: 0.7280 - val_loss: 0.5482 - val_acc: 0.7403\n",
            "Epoch 54/150\n",
            "614/614 [==============================] - 0s 271us/step - loss: 0.5434 - acc: 0.7231 - val_loss: 0.5645 - val_acc: 0.7273\n",
            "Epoch 55/150\n",
            "614/614 [==============================] - 0s 266us/step - loss: 0.5492 - acc: 0.7231 - val_loss: 0.5502 - val_acc: 0.7273\n",
            "Epoch 56/150\n",
            "614/614 [==============================] - 0s 268us/step - loss: 0.5441 - acc: 0.7362 - val_loss: 0.5606 - val_acc: 0.7208\n",
            "Epoch 57/150\n",
            "614/614 [==============================] - 0s 270us/step - loss: 0.5418 - acc: 0.7345 - val_loss: 0.5598 - val_acc: 0.7338\n",
            "Epoch 58/150\n",
            "614/614 [==============================] - 0s 272us/step - loss: 0.5423 - acc: 0.7410 - val_loss: 0.5555 - val_acc: 0.7338\n",
            "Epoch 59/150\n",
            "614/614 [==============================] - 0s 272us/step - loss: 0.5406 - acc: 0.7378 - val_loss: 0.5457 - val_acc: 0.7727\n",
            "Epoch 60/150\n",
            "614/614 [==============================] - 0s 260us/step - loss: 0.5431 - acc: 0.7313 - val_loss: 0.5510 - val_acc: 0.7338\n",
            "Epoch 61/150\n",
            "614/614 [==============================] - 0s 273us/step - loss: 0.5333 - acc: 0.7362 - val_loss: 0.5514 - val_acc: 0.7208\n",
            "Epoch 62/150\n",
            "614/614 [==============================] - 0s 268us/step - loss: 0.5349 - acc: 0.7313 - val_loss: 0.5634 - val_acc: 0.7532\n",
            "Epoch 63/150\n",
            "614/614 [==============================] - 0s 267us/step - loss: 0.5369 - acc: 0.7280 - val_loss: 0.5719 - val_acc: 0.7338\n",
            "Epoch 64/150\n",
            "614/614 [==============================] - 0s 268us/step - loss: 0.5362 - acc: 0.7362 - val_loss: 0.5420 - val_acc: 0.7468\n",
            "Epoch 65/150\n",
            "614/614 [==============================] - 0s 270us/step - loss: 0.5372 - acc: 0.7215 - val_loss: 0.5435 - val_acc: 0.7468\n",
            "Epoch 66/150\n",
            "614/614 [==============================] - 0s 265us/step - loss: 0.5338 - acc: 0.7459 - val_loss: 0.5460 - val_acc: 0.7468\n",
            "Epoch 67/150\n",
            "614/614 [==============================] - 0s 269us/step - loss: 0.5329 - acc: 0.7443 - val_loss: 0.5414 - val_acc: 0.7338\n",
            "Epoch 68/150\n",
            "614/614 [==============================] - 0s 262us/step - loss: 0.5366 - acc: 0.7296 - val_loss: 0.5396 - val_acc: 0.7532\n",
            "Epoch 69/150\n",
            "614/614 [==============================] - 0s 269us/step - loss: 0.5319 - acc: 0.7394 - val_loss: 0.5427 - val_acc: 0.7403\n",
            "Epoch 70/150\n",
            "614/614 [==============================] - 0s 260us/step - loss: 0.5341 - acc: 0.7296 - val_loss: 0.5519 - val_acc: 0.7403\n",
            "Epoch 71/150\n",
            "614/614 [==============================] - 0s 266us/step - loss: 0.5301 - acc: 0.7313 - val_loss: 0.5375 - val_acc: 0.7468\n",
            "Epoch 72/150\n",
            "614/614 [==============================] - 0s 260us/step - loss: 0.5341 - acc: 0.7362 - val_loss: 0.5414 - val_acc: 0.7468\n",
            "Epoch 73/150\n",
            "614/614 [==============================] - 0s 263us/step - loss: 0.5296 - acc: 0.7508 - val_loss: 0.5347 - val_acc: 0.7403\n",
            "Epoch 74/150\n",
            "614/614 [==============================] - 0s 258us/step - loss: 0.5289 - acc: 0.7492 - val_loss: 0.5302 - val_acc: 0.7532\n",
            "Epoch 75/150\n",
            "614/614 [==============================] - 0s 269us/step - loss: 0.5352 - acc: 0.7394 - val_loss: 0.5323 - val_acc: 0.7468\n",
            "Epoch 76/150\n",
            "614/614 [==============================] - 0s 255us/step - loss: 0.5240 - acc: 0.7394 - val_loss: 0.5249 - val_acc: 0.7597\n",
            "Epoch 77/150\n",
            "614/614 [==============================] - 0s 261us/step - loss: 0.5331 - acc: 0.7231 - val_loss: 0.5346 - val_acc: 0.7403\n",
            "Epoch 78/150\n",
            "614/614 [==============================] - 0s 263us/step - loss: 0.5266 - acc: 0.7394 - val_loss: 0.5264 - val_acc: 0.7468\n",
            "Epoch 79/150\n",
            "614/614 [==============================] - 0s 267us/step - loss: 0.5252 - acc: 0.7508 - val_loss: 0.5252 - val_acc: 0.7532\n",
            "Epoch 80/150\n",
            "614/614 [==============================] - 0s 259us/step - loss: 0.5238 - acc: 0.7590 - val_loss: 0.5251 - val_acc: 0.7532\n",
            "Epoch 81/150\n",
            "614/614 [==============================] - 0s 270us/step - loss: 0.5209 - acc: 0.7524 - val_loss: 0.5382 - val_acc: 0.7532\n",
            "Epoch 82/150\n",
            "614/614 [==============================] - 0s 262us/step - loss: 0.5235 - acc: 0.7459 - val_loss: 0.5232 - val_acc: 0.7468\n",
            "Epoch 83/150\n",
            "614/614 [==============================] - 0s 258us/step - loss: 0.5194 - acc: 0.7427 - val_loss: 0.5224 - val_acc: 0.7532\n",
            "Epoch 84/150\n",
            "614/614 [==============================] - 0s 264us/step - loss: 0.5186 - acc: 0.7524 - val_loss: 0.5115 - val_acc: 0.7727\n",
            "Epoch 85/150\n",
            "614/614 [==============================] - 0s 262us/step - loss: 0.5140 - acc: 0.7524 - val_loss: 0.5158 - val_acc: 0.7597\n",
            "Epoch 86/150\n",
            "614/614 [==============================] - 0s 260us/step - loss: 0.5169 - acc: 0.7459 - val_loss: 0.5130 - val_acc: 0.7532\n",
            "Epoch 87/150\n",
            "614/614 [==============================] - 0s 268us/step - loss: 0.5157 - acc: 0.7410 - val_loss: 0.5245 - val_acc: 0.7468\n",
            "Epoch 88/150\n",
            "614/614 [==============================] - 0s 265us/step - loss: 0.5110 - acc: 0.7443 - val_loss: 0.5298 - val_acc: 0.7403\n",
            "Epoch 89/150\n",
            "614/614 [==============================] - 0s 271us/step - loss: 0.5167 - acc: 0.7541 - val_loss: 0.5115 - val_acc: 0.7727\n",
            "Epoch 90/150\n",
            "614/614 [==============================] - 0s 262us/step - loss: 0.5148 - acc: 0.7459 - val_loss: 0.5068 - val_acc: 0.7597\n",
            "Epoch 91/150\n",
            "614/614 [==============================] - 0s 262us/step - loss: 0.5164 - acc: 0.7476 - val_loss: 0.5102 - val_acc: 0.7727\n",
            "Epoch 92/150\n",
            "614/614 [==============================] - 0s 261us/step - loss: 0.5060 - acc: 0.7590 - val_loss: 0.5127 - val_acc: 0.7662\n",
            "Epoch 93/150\n",
            "614/614 [==============================] - 0s 276us/step - loss: 0.5112 - acc: 0.7459 - val_loss: 0.5041 - val_acc: 0.7597\n",
            "Epoch 94/150\n",
            "614/614 [==============================] - 0s 300us/step - loss: 0.5052 - acc: 0.7590 - val_loss: 0.5314 - val_acc: 0.7532\n",
            "Epoch 95/150\n",
            "614/614 [==============================] - 0s 269us/step - loss: 0.5195 - acc: 0.7492 - val_loss: 0.5144 - val_acc: 0.7468\n",
            "Epoch 96/150\n",
            "614/614 [==============================] - 0s 266us/step - loss: 0.5048 - acc: 0.7508 - val_loss: 0.5061 - val_acc: 0.7662\n",
            "Epoch 97/150\n",
            "614/614 [==============================] - 0s 265us/step - loss: 0.5038 - acc: 0.7508 - val_loss: 0.5033 - val_acc: 0.7727\n",
            "Epoch 98/150\n",
            "614/614 [==============================] - 0s 260us/step - loss: 0.5015 - acc: 0.7492 - val_loss: 0.5147 - val_acc: 0.7532\n",
            "Epoch 99/150\n",
            "614/614 [==============================] - 0s 276us/step - loss: 0.4907 - acc: 0.7752 - val_loss: 0.5341 - val_acc: 0.7468\n",
            "Epoch 100/150\n",
            "614/614 [==============================] - 0s 265us/step - loss: 0.4987 - acc: 0.7590 - val_loss: 0.5003 - val_acc: 0.7922\n",
            "Epoch 101/150\n",
            "614/614 [==============================] - 0s 260us/step - loss: 0.4993 - acc: 0.7573 - val_loss: 0.5016 - val_acc: 0.7792\n",
            "Epoch 102/150\n",
            "614/614 [==============================] - 0s 259us/step - loss: 0.4976 - acc: 0.7687 - val_loss: 0.5188 - val_acc: 0.7273\n",
            "Epoch 103/150\n",
            "614/614 [==============================] - 0s 272us/step - loss: 0.4994 - acc: 0.7704 - val_loss: 0.5179 - val_acc: 0.7403\n",
            "Epoch 104/150\n",
            "614/614 [==============================] - 0s 271us/step - loss: 0.4928 - acc: 0.7606 - val_loss: 0.4913 - val_acc: 0.7857\n",
            "Epoch 105/150\n",
            "614/614 [==============================] - 0s 265us/step - loss: 0.5066 - acc: 0.7557 - val_loss: 0.5617 - val_acc: 0.7273\n",
            "Epoch 106/150\n",
            "614/614 [==============================] - 0s 275us/step - loss: 0.4973 - acc: 0.7687 - val_loss: 0.4851 - val_acc: 0.7857\n",
            "Epoch 107/150\n",
            "614/614 [==============================] - 0s 258us/step - loss: 0.4940 - acc: 0.7622 - val_loss: 0.4986 - val_acc: 0.7338\n",
            "Epoch 108/150\n",
            "614/614 [==============================] - 0s 267us/step - loss: 0.4985 - acc: 0.7557 - val_loss: 0.4834 - val_acc: 0.7987\n",
            "Epoch 109/150\n",
            "614/614 [==============================] - 0s 266us/step - loss: 0.4890 - acc: 0.7638 - val_loss: 0.4901 - val_acc: 0.7792\n",
            "Epoch 110/150\n",
            "614/614 [==============================] - 0s 273us/step - loss: 0.4875 - acc: 0.7573 - val_loss: 0.4876 - val_acc: 0.7727\n",
            "Epoch 111/150\n",
            "614/614 [==============================] - 0s 262us/step - loss: 0.4830 - acc: 0.7752 - val_loss: 0.4889 - val_acc: 0.7662\n",
            "Epoch 112/150\n",
            "614/614 [==============================] - 0s 266us/step - loss: 0.4822 - acc: 0.7687 - val_loss: 0.5128 - val_acc: 0.7273\n",
            "Epoch 113/150\n",
            "614/614 [==============================] - 0s 259us/step - loss: 0.4907 - acc: 0.7704 - val_loss: 0.4809 - val_acc: 0.7922\n",
            "Epoch 114/150\n",
            "614/614 [==============================] - 0s 269us/step - loss: 0.4837 - acc: 0.7769 - val_loss: 0.4963 - val_acc: 0.7532\n",
            "Epoch 115/150\n",
            "614/614 [==============================] - 0s 259us/step - loss: 0.4819 - acc: 0.7769 - val_loss: 0.4838 - val_acc: 0.7857\n",
            "Epoch 116/150\n",
            "614/614 [==============================] - 0s 267us/step - loss: 0.4739 - acc: 0.7834 - val_loss: 0.4853 - val_acc: 0.7727\n",
            "Epoch 117/150\n",
            "614/614 [==============================] - 0s 258us/step - loss: 0.4896 - acc: 0.7573 - val_loss: 0.5227 - val_acc: 0.7403\n",
            "Epoch 118/150\n",
            "614/614 [==============================] - 0s 272us/step - loss: 0.4762 - acc: 0.7769 - val_loss: 0.4980 - val_acc: 0.7597\n",
            "Epoch 119/150\n",
            "614/614 [==============================] - 0s 260us/step - loss: 0.4960 - acc: 0.7622 - val_loss: 0.4654 - val_acc: 0.7987\n",
            "Epoch 120/150\n",
            "614/614 [==============================] - 0s 265us/step - loss: 0.5004 - acc: 0.7476 - val_loss: 0.4817 - val_acc: 0.7857\n",
            "Epoch 121/150\n",
            "614/614 [==============================] - 0s 258us/step - loss: 0.4855 - acc: 0.7720 - val_loss: 0.5036 - val_acc: 0.7273\n",
            "Epoch 122/150\n",
            "614/614 [==============================] - 0s 266us/step - loss: 0.4807 - acc: 0.7655 - val_loss: 0.4725 - val_acc: 0.7857\n",
            "Epoch 123/150\n",
            "614/614 [==============================] - 0s 258us/step - loss: 0.4859 - acc: 0.7638 - val_loss: 0.4704 - val_acc: 0.7857\n",
            "Epoch 124/150\n",
            "614/614 [==============================] - 0s 261us/step - loss: 0.4801 - acc: 0.7573 - val_loss: 0.4894 - val_acc: 0.7597\n",
            "Epoch 125/150\n",
            "614/614 [==============================] - 0s 268us/step - loss: 0.4805 - acc: 0.7752 - val_loss: 0.4687 - val_acc: 0.7792\n",
            "Epoch 126/150\n",
            "614/614 [==============================] - 0s 265us/step - loss: 0.4860 - acc: 0.7818 - val_loss: 0.4774 - val_acc: 0.7662\n",
            "Epoch 127/150\n",
            "614/614 [==============================] - 0s 273us/step - loss: 0.4769 - acc: 0.7704 - val_loss: 0.4807 - val_acc: 0.7662\n",
            "Epoch 128/150\n",
            "614/614 [==============================] - 0s 264us/step - loss: 0.4752 - acc: 0.7687 - val_loss: 0.4670 - val_acc: 0.7922\n",
            "Epoch 129/150\n",
            "614/614 [==============================] - 0s 270us/step - loss: 0.4818 - acc: 0.7671 - val_loss: 0.4706 - val_acc: 0.7532\n",
            "Epoch 130/150\n",
            "614/614 [==============================] - 0s 265us/step - loss: 0.4713 - acc: 0.7638 - val_loss: 0.4841 - val_acc: 0.7792\n",
            "Epoch 131/150\n",
            "614/614 [==============================] - 0s 267us/step - loss: 0.4696 - acc: 0.7704 - val_loss: 0.5047 - val_acc: 0.7403\n",
            "Epoch 132/150\n",
            "614/614 [==============================] - 0s 268us/step - loss: 0.4737 - acc: 0.7687 - val_loss: 0.4717 - val_acc: 0.7727\n",
            "Epoch 133/150\n",
            "614/614 [==============================] - 0s 291us/step - loss: 0.4766 - acc: 0.7736 - val_loss: 0.4664 - val_acc: 0.7857\n",
            "Epoch 134/150\n",
            "614/614 [==============================] - 0s 268us/step - loss: 0.4727 - acc: 0.7834 - val_loss: 0.4836 - val_acc: 0.7468\n",
            "Epoch 135/150\n",
            "614/614 [==============================] - 0s 268us/step - loss: 0.4708 - acc: 0.7736 - val_loss: 0.4667 - val_acc: 0.7857\n",
            "Epoch 136/150\n",
            "614/614 [==============================] - 0s 266us/step - loss: 0.4729 - acc: 0.7573 - val_loss: 0.4673 - val_acc: 0.7922\n",
            "Epoch 137/150\n",
            "614/614 [==============================] - 0s 276us/step - loss: 0.4673 - acc: 0.7850 - val_loss: 0.4756 - val_acc: 0.7792\n",
            "Epoch 138/150\n",
            "614/614 [==============================] - 0s 272us/step - loss: 0.4771 - acc: 0.7915 - val_loss: 0.4684 - val_acc: 0.7532\n",
            "Epoch 139/150\n",
            "614/614 [==============================] - 0s 273us/step - loss: 0.4726 - acc: 0.7622 - val_loss: 0.4877 - val_acc: 0.7532\n",
            "Epoch 140/150\n",
            "614/614 [==============================] - 0s 265us/step - loss: 0.4660 - acc: 0.7769 - val_loss: 0.4671 - val_acc: 0.7468\n",
            "Epoch 141/150\n",
            "614/614 [==============================] - 0s 298us/step - loss: 0.4717 - acc: 0.7638 - val_loss: 0.4660 - val_acc: 0.7987\n",
            "Epoch 142/150\n",
            "614/614 [==============================] - 0s 264us/step - loss: 0.4720 - acc: 0.7899 - val_loss: 0.5003 - val_acc: 0.7273\n",
            "Epoch 143/150\n",
            "614/614 [==============================] - 0s 266us/step - loss: 0.4732 - acc: 0.7752 - val_loss: 0.4779 - val_acc: 0.7727\n",
            "Epoch 144/150\n",
            "614/614 [==============================] - 0s 269us/step - loss: 0.4750 - acc: 0.7720 - val_loss: 0.4710 - val_acc: 0.7727\n",
            "Epoch 145/150\n",
            "614/614 [==============================] - 0s 270us/step - loss: 0.4691 - acc: 0.7687 - val_loss: 0.4597 - val_acc: 0.8052\n",
            "Epoch 146/150\n",
            "614/614 [==============================] - 0s 262us/step - loss: 0.4566 - acc: 0.7964 - val_loss: 0.4678 - val_acc: 0.7597\n",
            "Epoch 147/150\n",
            "614/614 [==============================] - 0s 268us/step - loss: 0.4717 - acc: 0.7671 - val_loss: 0.4849 - val_acc: 0.7403\n",
            "Epoch 148/150\n",
            "614/614 [==============================] - 0s 258us/step - loss: 0.4631 - acc: 0.7752 - val_loss: 0.4795 - val_acc: 0.7597\n",
            "Epoch 149/150\n",
            "614/614 [==============================] - 0s 267us/step - loss: 0.4686 - acc: 0.7720 - val_loss: 0.4708 - val_acc: 0.7727\n",
            "Epoch 150/150\n",
            "614/614 [==============================] - 0s 265us/step - loss: 0.4680 - acc: 0.7671 - val_loss: 0.5003 - val_acc: 0.7338\n"
          ],
          "name": "stdout"
        }
      ]
    },
    {
      "cell_type": "code",
      "metadata": {
        "id": "X8fCPUgxTm9W",
        "colab_type": "code",
        "outputId": "a3298ef6-59c2-4c27-a861-20cb39373141",
        "colab": {
          "base_uri": "https://localhost:8080/",
          "height": 295
        }
      },
      "source": [
        "plt.plot(history.history['acc'])\n",
        "plt.plot(history.history['val_acc'])\n",
        "plt.title('Model Accuracy')\n",
        "plt.ylabel('accuracy')\n",
        "plt.xlabel('epoch')\n",
        "plt.legend(['train', 'test'])\n",
        "plt.show()"
      ],
      "execution_count": 18,
      "outputs": [
        {
          "output_type": "display_data",
          "data": {
            "image/png": "[encoded data removed]",
            "text/plain": [
              "<Figure size 432x288 with 1 Axes>"
            ]
          },
          "metadata": {
            "tags": []
          }
        }
      ]
    },
    {
      "cell_type": "code",
      "metadata": {
        "id": "ZVyKl_8LTwgZ",
        "colab_type": "code",
        "outputId": "6fbbc003-0604-4994-ac91-cbbc81648286",
        "colab": {
          "base_uri": "https://localhost:8080/",
          "height": 295
        }
      },
      "source": [
        "plt.plot(history.history['loss'])\n",
        "plt.plot(history.history['val_loss'])\n",
        "plt.title('Model Loss')\n",
        "plt.ylabel('loss')\n",
        "plt.xlabel('epoch')\n",
        "plt.legend(['train', 'test'])\n",
        "plt.show()"
      ],
      "execution_count": 19,
      "outputs": [
        {
          "output_type": "display_data",
          "data": {
            "image/png": "[encoded data removed]",
            "text/plain": [
              "<Figure size 432x288 with 1 Axes>"
            ]
          },
          "metadata": {
            "tags": []
          }
        }
      ]
    },
    {
      "cell_type": "code",
      "metadata": {
        "id": "NTvpKNqGT0wp",
        "colab_type": "code",
        "outputId": "f64ebecd-6260-4b40-f6ab-0f849cb958f3",
        "colab": {
          "base_uri": "https://localhost:8080/",
          "height": 35
        }
      },
      "source": [
        "scores = model.evaluate(X_test, y_test, verbose=0)\n",
        "print(\"%s: %.2f%%\" % (model.metrics_names[1], scores[1]*100))"
      ],
      "execution_count": 20,
      "outputs": [
        {
          "output_type": "stream",
          "text": [
            "acc: 73.38%\n"
          ],
          "name": "stdout"
        }
      ]
    }
  ]
}